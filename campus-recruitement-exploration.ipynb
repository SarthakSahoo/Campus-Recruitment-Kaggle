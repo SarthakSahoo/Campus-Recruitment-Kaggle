{
 "cells": [
  {
   "cell_type": "code",
   "execution_count": 1,
   "metadata": {
    "_cell_guid": "b1076dfc-b9ad-4769-8c92-a6c4dae69d19",
    "_uuid": "8f2839f25d086af736a60e9eeb907d3b93b6e0e5",
    "execution": {
     "iopub.execute_input": "2021-05-18T19:26:25.664431Z",
     "iopub.status.busy": "2021-05-18T19:26:25.663870Z",
     "iopub.status.idle": "2021-05-18T19:26:26.428523Z",
     "shell.execute_reply": "2021-05-18T19:26:26.428911Z"
    },
    "papermill": {
     "duration": 0.813211,
     "end_time": "2021-05-18T19:26:26.429175",
     "exception": false,
     "start_time": "2021-05-18T19:26:25.615964",
     "status": "completed"
    },
    "tags": []
   },
   "outputs": [],
   "source": [
    "# Importing Libraries\n",
    "import numpy as np \n",
    "import pandas as pd\n",
    "import matplotlib.pyplot as plt\n",
    "import seaborn as sb \n",
    "from sklearn.ensemble import RandomForestRegressor\n",
    "from sklearn.tree import DecisionTreeRegressor\n",
    "from sklearn.linear_model import LinearRegression\n",
    "from sklearn.metrics import mean_squared_error\n",
    "from sklearn.preprocessing import LabelEncoder\n",
    "from sklearn.preprocessing import StandardScaler\n",
    "from sklearn.tree import DecisionTreeClassifier\n",
    "from sklearn.ensemble import RandomForestClassifier\n",
    "from sklearn.linear_model import LogisticRegression\n",
    "from sklearn.metrics import confusion_matrix, accuracy_score\n",
    "from sklearn.model_selection import train_test_split\n",
    "from itertools import product\n",
    "%matplotlib inline"
   ]
  },
  {
   "cell_type": "code",
   "execution_count": 2,
   "metadata": {
    "execution": {
     "iopub.execute_input": "2021-05-18T19:26:26.507018Z",
     "iopub.status.busy": "2021-05-18T19:26:26.506460Z",
     "iopub.status.idle": "2021-05-18T19:26:26.521696Z",
     "shell.execute_reply": "2021-05-18T19:26:26.522088Z"
    },
    "papermill": {
     "duration": 0.05574,
     "end_time": "2021-05-18T19:26:26.522252",
     "exception": false,
     "start_time": "2021-05-18T19:26:26.466512",
     "status": "completed"
    },
    "tags": []
   },
   "outputs": [],
   "source": [
    "# Here we will import the data and load it to a dataframe\n",
    "df = pd.read_csv('Placement_Data_Full_Class.csv')"
   ]
  },
  {
   "cell_type": "code",
   "execution_count": 3,
   "metadata": {
    "execution": {
     "iopub.execute_input": "2021-05-18T19:26:26.604990Z",
     "iopub.status.busy": "2021-05-18T19:26:26.604157Z",
     "iopub.status.idle": "2021-05-18T19:26:26.627966Z",
     "shell.execute_reply": "2021-05-18T19:26:26.627445Z"
    },
    "papermill": {
     "duration": 0.06907,
     "end_time": "2021-05-18T19:26:26.628098",
     "exception": false,
     "start_time": "2021-05-18T19:26:26.559028",
     "status": "completed"
    },
    "tags": []
   },
   "outputs": [
    {
     "data": {
      "text/html": [
       "<div>\n",
       "<style scoped>\n",
       "    .dataframe tbody tr th:only-of-type {\n",
       "        vertical-align: middle;\n",
       "    }\n",
       "\n",
       "    .dataframe tbody tr th {\n",
       "        vertical-align: top;\n",
       "    }\n",
       "\n",
       "    .dataframe thead th {\n",
       "        text-align: right;\n",
       "    }\n",
       "</style>\n",
       "<table border=\"1\" class=\"dataframe\">\n",
       "  <thead>\n",
       "    <tr style=\"text-align: right;\">\n",
       "      <th></th>\n",
       "      <th>sl_no</th>\n",
       "      <th>gender</th>\n",
       "      <th>ssc_p</th>\n",
       "      <th>ssc_b</th>\n",
       "      <th>hsc_p</th>\n",
       "      <th>hsc_b</th>\n",
       "      <th>hsc_s</th>\n",
       "      <th>degree_p</th>\n",
       "      <th>degree_t</th>\n",
       "      <th>workex</th>\n",
       "      <th>etest_p</th>\n",
       "      <th>specialisation</th>\n",
       "      <th>mba_p</th>\n",
       "      <th>status</th>\n",
       "      <th>salary</th>\n",
       "    </tr>\n",
       "  </thead>\n",
       "  <tbody>\n",
       "    <tr>\n",
       "      <th>0</th>\n",
       "      <td>1</td>\n",
       "      <td>M</td>\n",
       "      <td>67.00</td>\n",
       "      <td>Others</td>\n",
       "      <td>91.00</td>\n",
       "      <td>Others</td>\n",
       "      <td>Commerce</td>\n",
       "      <td>58.00</td>\n",
       "      <td>Sci&amp;Tech</td>\n",
       "      <td>No</td>\n",
       "      <td>55.0</td>\n",
       "      <td>Mkt&amp;HR</td>\n",
       "      <td>58.80</td>\n",
       "      <td>Placed</td>\n",
       "      <td>270000.0</td>\n",
       "    </tr>\n",
       "    <tr>\n",
       "      <th>1</th>\n",
       "      <td>2</td>\n",
       "      <td>M</td>\n",
       "      <td>79.33</td>\n",
       "      <td>Central</td>\n",
       "      <td>78.33</td>\n",
       "      <td>Others</td>\n",
       "      <td>Science</td>\n",
       "      <td>77.48</td>\n",
       "      <td>Sci&amp;Tech</td>\n",
       "      <td>Yes</td>\n",
       "      <td>86.5</td>\n",
       "      <td>Mkt&amp;Fin</td>\n",
       "      <td>66.28</td>\n",
       "      <td>Placed</td>\n",
       "      <td>200000.0</td>\n",
       "    </tr>\n",
       "    <tr>\n",
       "      <th>2</th>\n",
       "      <td>3</td>\n",
       "      <td>M</td>\n",
       "      <td>65.00</td>\n",
       "      <td>Central</td>\n",
       "      <td>68.00</td>\n",
       "      <td>Central</td>\n",
       "      <td>Arts</td>\n",
       "      <td>64.00</td>\n",
       "      <td>Comm&amp;Mgmt</td>\n",
       "      <td>No</td>\n",
       "      <td>75.0</td>\n",
       "      <td>Mkt&amp;Fin</td>\n",
       "      <td>57.80</td>\n",
       "      <td>Placed</td>\n",
       "      <td>250000.0</td>\n",
       "    </tr>\n",
       "    <tr>\n",
       "      <th>3</th>\n",
       "      <td>4</td>\n",
       "      <td>M</td>\n",
       "      <td>56.00</td>\n",
       "      <td>Central</td>\n",
       "      <td>52.00</td>\n",
       "      <td>Central</td>\n",
       "      <td>Science</td>\n",
       "      <td>52.00</td>\n",
       "      <td>Sci&amp;Tech</td>\n",
       "      <td>No</td>\n",
       "      <td>66.0</td>\n",
       "      <td>Mkt&amp;HR</td>\n",
       "      <td>59.43</td>\n",
       "      <td>Not Placed</td>\n",
       "      <td>NaN</td>\n",
       "    </tr>\n",
       "    <tr>\n",
       "      <th>4</th>\n",
       "      <td>5</td>\n",
       "      <td>M</td>\n",
       "      <td>85.80</td>\n",
       "      <td>Central</td>\n",
       "      <td>73.60</td>\n",
       "      <td>Central</td>\n",
       "      <td>Commerce</td>\n",
       "      <td>73.30</td>\n",
       "      <td>Comm&amp;Mgmt</td>\n",
       "      <td>No</td>\n",
       "      <td>96.8</td>\n",
       "      <td>Mkt&amp;Fin</td>\n",
       "      <td>55.50</td>\n",
       "      <td>Placed</td>\n",
       "      <td>425000.0</td>\n",
       "    </tr>\n",
       "  </tbody>\n",
       "</table>\n",
       "</div>"
      ],
      "text/plain": [
       "   sl_no gender  ssc_p    ssc_b  hsc_p    hsc_b     hsc_s  degree_p  \\\n",
       "0      1      M  67.00   Others  91.00   Others  Commerce     58.00   \n",
       "1      2      M  79.33  Central  78.33   Others   Science     77.48   \n",
       "2      3      M  65.00  Central  68.00  Central      Arts     64.00   \n",
       "3      4      M  56.00  Central  52.00  Central   Science     52.00   \n",
       "4      5      M  85.80  Central  73.60  Central  Commerce     73.30   \n",
       "\n",
       "    degree_t workex  etest_p specialisation  mba_p      status    salary  \n",
       "0   Sci&Tech     No     55.0         Mkt&HR  58.80      Placed  270000.0  \n",
       "1   Sci&Tech    Yes     86.5        Mkt&Fin  66.28      Placed  200000.0  \n",
       "2  Comm&Mgmt     No     75.0        Mkt&Fin  57.80      Placed  250000.0  \n",
       "3   Sci&Tech     No     66.0         Mkt&HR  59.43  Not Placed       NaN  \n",
       "4  Comm&Mgmt     No     96.8        Mkt&Fin  55.50      Placed  425000.0  "
      ]
     },
     "execution_count": 3,
     "metadata": {},
     "output_type": "execute_result"
    }
   ],
   "source": [
    "# Let's see our top 5 rows\n",
    "df.head()"
   ]
  },
  {
   "cell_type": "code",
   "execution_count": 4,
   "metadata": {
    "execution": {
     "iopub.execute_input": "2021-05-18T19:26:26.715971Z",
     "iopub.status.busy": "2021-05-18T19:26:26.715052Z",
     "iopub.status.idle": "2021-05-18T19:26:26.724236Z",
     "shell.execute_reply": "2021-05-18T19:26:26.723745Z"
    },
    "papermill": {
     "duration": 0.058388,
     "end_time": "2021-05-18T19:26:26.724378",
     "exception": false,
     "start_time": "2021-05-18T19:26:26.665990",
     "status": "completed"
    },
    "tags": []
   },
   "outputs": [
    {
     "name": "stdout",
     "output_type": "stream",
     "text": [
      "<class 'pandas.core.frame.DataFrame'>\n",
      "RangeIndex: 215 entries, 0 to 214\n",
      "Data columns (total 15 columns):\n",
      "sl_no             215 non-null int64\n",
      "gender            215 non-null object\n",
      "ssc_p             215 non-null float64\n",
      "ssc_b             215 non-null object\n",
      "hsc_p             215 non-null float64\n",
      "hsc_b             215 non-null object\n",
      "hsc_s             215 non-null object\n",
      "degree_p          215 non-null float64\n",
      "degree_t          215 non-null object\n",
      "workex            215 non-null object\n",
      "etest_p           215 non-null float64\n",
      "specialisation    215 non-null object\n",
      "mba_p             215 non-null float64\n",
      "status            215 non-null object\n",
      "salary            148 non-null float64\n",
      "dtypes: float64(6), int64(1), object(8)\n",
      "memory usage: 25.3+ KB\n"
     ]
    }
   ],
   "source": [
    "# Summary of our dataframe\n",
    "df.info()"
   ]
  },
  {
   "cell_type": "markdown",
   "metadata": {
    "papermill": {
     "duration": 0.04068,
     "end_time": "2021-05-18T19:26:26.802868",
     "exception": false,
     "start_time": "2021-05-18T19:26:26.762188",
     "status": "completed"
    },
    "tags": []
   },
   "source": [
    "- Here we can see that our dataset contains 215 rows with 15 features asssociated with it."
   ]
  },
  {
   "cell_type": "code",
   "execution_count": 5,
   "metadata": {
    "execution": {
     "iopub.execute_input": "2021-05-18T19:26:26.880350Z",
     "iopub.status.busy": "2021-05-18T19:26:26.879826Z",
     "iopub.status.idle": "2021-05-18T19:26:26.886031Z",
     "shell.execute_reply": "2021-05-18T19:26:26.886445Z"
    },
    "papermill": {
     "duration": 0.046385,
     "end_time": "2021-05-18T19:26:26.886603",
     "exception": false,
     "start_time": "2021-05-18T19:26:26.840218",
     "status": "completed"
    },
    "tags": []
   },
   "outputs": [
    {
     "data": {
      "text/plain": [
       "sl_no              0\n",
       "gender             0\n",
       "ssc_p              0\n",
       "ssc_b              0\n",
       "hsc_p              0\n",
       "hsc_b              0\n",
       "hsc_s              0\n",
       "degree_p           0\n",
       "degree_t           0\n",
       "workex             0\n",
       "etest_p            0\n",
       "specialisation     0\n",
       "mba_p              0\n",
       "status             0\n",
       "salary            67\n",
       "dtype: int64"
      ]
     },
     "execution_count": 5,
     "metadata": {},
     "output_type": "execute_result"
    }
   ],
   "source": [
    "# Checking for Null values in our Dataset\n",
    "df.isnull().sum()"
   ]
  },
  {
   "cell_type": "markdown",
   "metadata": {
    "papermill": {
     "duration": 0.037605,
     "end_time": "2021-05-18T19:26:26.961831",
     "exception": false,
     "start_time": "2021-05-18T19:26:26.924226",
     "status": "completed"
    },
    "tags": []
   },
   "source": [
    "- Salary contains 67 NaN values in the dataset. We will replace all those NaN values in the next step."
   ]
  },
  {
   "cell_type": "code",
   "execution_count": 6,
   "metadata": {
    "execution": {
     "iopub.execute_input": "2021-05-18T19:26:27.040241Z",
     "iopub.status.busy": "2021-05-18T19:26:27.039733Z",
     "iopub.status.idle": "2021-05-18T19:26:27.068077Z",
     "shell.execute_reply": "2021-05-18T19:26:27.068488Z"
    },
    "papermill": {
     "duration": 0.068834,
     "end_time": "2021-05-18T19:26:27.068660",
     "exception": false,
     "start_time": "2021-05-18T19:26:26.999826",
     "status": "completed"
    },
    "tags": []
   },
   "outputs": [
    {
     "data": {
      "text/html": [
       "<div>\n",
       "<style scoped>\n",
       "    .dataframe tbody tr th:only-of-type {\n",
       "        vertical-align: middle;\n",
       "    }\n",
       "\n",
       "    .dataframe tbody tr th {\n",
       "        vertical-align: top;\n",
       "    }\n",
       "\n",
       "    .dataframe thead th {\n",
       "        text-align: right;\n",
       "    }\n",
       "</style>\n",
       "<table border=\"1\" class=\"dataframe\">\n",
       "  <thead>\n",
       "    <tr style=\"text-align: right;\">\n",
       "      <th></th>\n",
       "      <th>sl_no</th>\n",
       "      <th>gender</th>\n",
       "      <th>ssc_p</th>\n",
       "      <th>ssc_b</th>\n",
       "      <th>hsc_p</th>\n",
       "      <th>hsc_b</th>\n",
       "      <th>hsc_s</th>\n",
       "      <th>degree_p</th>\n",
       "      <th>degree_t</th>\n",
       "      <th>workex</th>\n",
       "      <th>etest_p</th>\n",
       "      <th>specialisation</th>\n",
       "      <th>mba_p</th>\n",
       "      <th>status</th>\n",
       "      <th>salary</th>\n",
       "    </tr>\n",
       "  </thead>\n",
       "  <tbody>\n",
       "    <tr>\n",
       "      <th>3</th>\n",
       "      <td>4</td>\n",
       "      <td>M</td>\n",
       "      <td>56.00</td>\n",
       "      <td>Central</td>\n",
       "      <td>52.00</td>\n",
       "      <td>Central</td>\n",
       "      <td>Science</td>\n",
       "      <td>52.00</td>\n",
       "      <td>Sci&amp;Tech</td>\n",
       "      <td>No</td>\n",
       "      <td>66.00</td>\n",
       "      <td>Mkt&amp;HR</td>\n",
       "      <td>59.43</td>\n",
       "      <td>Not Placed</td>\n",
       "      <td>NaN</td>\n",
       "    </tr>\n",
       "    <tr>\n",
       "      <th>5</th>\n",
       "      <td>6</td>\n",
       "      <td>M</td>\n",
       "      <td>55.00</td>\n",
       "      <td>Others</td>\n",
       "      <td>49.80</td>\n",
       "      <td>Others</td>\n",
       "      <td>Science</td>\n",
       "      <td>67.25</td>\n",
       "      <td>Sci&amp;Tech</td>\n",
       "      <td>Yes</td>\n",
       "      <td>55.00</td>\n",
       "      <td>Mkt&amp;Fin</td>\n",
       "      <td>51.58</td>\n",
       "      <td>Not Placed</td>\n",
       "      <td>NaN</td>\n",
       "    </tr>\n",
       "    <tr>\n",
       "      <th>6</th>\n",
       "      <td>7</td>\n",
       "      <td>F</td>\n",
       "      <td>46.00</td>\n",
       "      <td>Others</td>\n",
       "      <td>49.20</td>\n",
       "      <td>Others</td>\n",
       "      <td>Commerce</td>\n",
       "      <td>79.00</td>\n",
       "      <td>Comm&amp;Mgmt</td>\n",
       "      <td>No</td>\n",
       "      <td>74.28</td>\n",
       "      <td>Mkt&amp;Fin</td>\n",
       "      <td>53.29</td>\n",
       "      <td>Not Placed</td>\n",
       "      <td>NaN</td>\n",
       "    </tr>\n",
       "    <tr>\n",
       "      <th>9</th>\n",
       "      <td>10</td>\n",
       "      <td>M</td>\n",
       "      <td>58.00</td>\n",
       "      <td>Central</td>\n",
       "      <td>70.00</td>\n",
       "      <td>Central</td>\n",
       "      <td>Commerce</td>\n",
       "      <td>61.00</td>\n",
       "      <td>Comm&amp;Mgmt</td>\n",
       "      <td>No</td>\n",
       "      <td>54.00</td>\n",
       "      <td>Mkt&amp;Fin</td>\n",
       "      <td>52.21</td>\n",
       "      <td>Not Placed</td>\n",
       "      <td>NaN</td>\n",
       "    </tr>\n",
       "    <tr>\n",
       "      <th>12</th>\n",
       "      <td>13</td>\n",
       "      <td>F</td>\n",
       "      <td>47.00</td>\n",
       "      <td>Central</td>\n",
       "      <td>55.00</td>\n",
       "      <td>Others</td>\n",
       "      <td>Science</td>\n",
       "      <td>65.00</td>\n",
       "      <td>Comm&amp;Mgmt</td>\n",
       "      <td>No</td>\n",
       "      <td>62.00</td>\n",
       "      <td>Mkt&amp;HR</td>\n",
       "      <td>65.04</td>\n",
       "      <td>Not Placed</td>\n",
       "      <td>NaN</td>\n",
       "    </tr>\n",
       "    <tr>\n",
       "      <th>14</th>\n",
       "      <td>15</td>\n",
       "      <td>M</td>\n",
       "      <td>62.00</td>\n",
       "      <td>Central</td>\n",
       "      <td>47.00</td>\n",
       "      <td>Central</td>\n",
       "      <td>Commerce</td>\n",
       "      <td>50.00</td>\n",
       "      <td>Comm&amp;Mgmt</td>\n",
       "      <td>No</td>\n",
       "      <td>76.00</td>\n",
       "      <td>Mkt&amp;HR</td>\n",
       "      <td>54.96</td>\n",
       "      <td>Not Placed</td>\n",
       "      <td>NaN</td>\n",
       "    </tr>\n",
       "    <tr>\n",
       "      <th>17</th>\n",
       "      <td>18</td>\n",
       "      <td>F</td>\n",
       "      <td>55.00</td>\n",
       "      <td>Central</td>\n",
       "      <td>67.00</td>\n",
       "      <td>Central</td>\n",
       "      <td>Commerce</td>\n",
       "      <td>64.00</td>\n",
       "      <td>Comm&amp;Mgmt</td>\n",
       "      <td>No</td>\n",
       "      <td>60.00</td>\n",
       "      <td>Mkt&amp;Fin</td>\n",
       "      <td>67.28</td>\n",
       "      <td>Not Placed</td>\n",
       "      <td>NaN</td>\n",
       "    </tr>\n",
       "    <tr>\n",
       "      <th>18</th>\n",
       "      <td>19</td>\n",
       "      <td>F</td>\n",
       "      <td>63.00</td>\n",
       "      <td>Central</td>\n",
       "      <td>66.00</td>\n",
       "      <td>Central</td>\n",
       "      <td>Commerce</td>\n",
       "      <td>64.00</td>\n",
       "      <td>Comm&amp;Mgmt</td>\n",
       "      <td>No</td>\n",
       "      <td>68.00</td>\n",
       "      <td>Mkt&amp;HR</td>\n",
       "      <td>64.08</td>\n",
       "      <td>Not Placed</td>\n",
       "      <td>NaN</td>\n",
       "    </tr>\n",
       "    <tr>\n",
       "      <th>25</th>\n",
       "      <td>26</td>\n",
       "      <td>F</td>\n",
       "      <td>52.58</td>\n",
       "      <td>Others</td>\n",
       "      <td>54.60</td>\n",
       "      <td>Central</td>\n",
       "      <td>Commerce</td>\n",
       "      <td>50.20</td>\n",
       "      <td>Comm&amp;Mgmt</td>\n",
       "      <td>Yes</td>\n",
       "      <td>76.00</td>\n",
       "      <td>Mkt&amp;Fin</td>\n",
       "      <td>65.33</td>\n",
       "      <td>Not Placed</td>\n",
       "      <td>NaN</td>\n",
       "    </tr>\n",
       "    <tr>\n",
       "      <th>29</th>\n",
       "      <td>30</td>\n",
       "      <td>M</td>\n",
       "      <td>62.00</td>\n",
       "      <td>Central</td>\n",
       "      <td>67.00</td>\n",
       "      <td>Central</td>\n",
       "      <td>Commerce</td>\n",
       "      <td>58.00</td>\n",
       "      <td>Comm&amp;Mgmt</td>\n",
       "      <td>No</td>\n",
       "      <td>77.00</td>\n",
       "      <td>Mkt&amp;Fin</td>\n",
       "      <td>51.29</td>\n",
       "      <td>Not Placed</td>\n",
       "      <td>NaN</td>\n",
       "    </tr>\n",
       "    <tr>\n",
       "      <th>31</th>\n",
       "      <td>32</td>\n",
       "      <td>F</td>\n",
       "      <td>67.00</td>\n",
       "      <td>Central</td>\n",
       "      <td>53.00</td>\n",
       "      <td>Central</td>\n",
       "      <td>Science</td>\n",
       "      <td>65.00</td>\n",
       "      <td>Sci&amp;Tech</td>\n",
       "      <td>No</td>\n",
       "      <td>64.00</td>\n",
       "      <td>Mkt&amp;HR</td>\n",
       "      <td>58.32</td>\n",
       "      <td>Not Placed</td>\n",
       "      <td>NaN</td>\n",
       "    </tr>\n",
       "    <tr>\n",
       "      <th>34</th>\n",
       "      <td>35</td>\n",
       "      <td>M</td>\n",
       "      <td>62.00</td>\n",
       "      <td>Others</td>\n",
       "      <td>51.00</td>\n",
       "      <td>Others</td>\n",
       "      <td>Science</td>\n",
       "      <td>52.00</td>\n",
       "      <td>Others</td>\n",
       "      <td>No</td>\n",
       "      <td>68.44</td>\n",
       "      <td>Mkt&amp;HR</td>\n",
       "      <td>62.77</td>\n",
       "      <td>Not Placed</td>\n",
       "      <td>NaN</td>\n",
       "    </tr>\n",
       "    <tr>\n",
       "      <th>36</th>\n",
       "      <td>37</td>\n",
       "      <td>M</td>\n",
       "      <td>51.00</td>\n",
       "      <td>Central</td>\n",
       "      <td>44.00</td>\n",
       "      <td>Central</td>\n",
       "      <td>Commerce</td>\n",
       "      <td>57.00</td>\n",
       "      <td>Comm&amp;Mgmt</td>\n",
       "      <td>No</td>\n",
       "      <td>64.00</td>\n",
       "      <td>Mkt&amp;Fin</td>\n",
       "      <td>51.45</td>\n",
       "      <td>Not Placed</td>\n",
       "      <td>NaN</td>\n",
       "    </tr>\n",
       "    <tr>\n",
       "      <th>41</th>\n",
       "      <td>42</td>\n",
       "      <td>F</td>\n",
       "      <td>74.00</td>\n",
       "      <td>Others</td>\n",
       "      <td>63.16</td>\n",
       "      <td>Others</td>\n",
       "      <td>Commerce</td>\n",
       "      <td>65.00</td>\n",
       "      <td>Comm&amp;Mgmt</td>\n",
       "      <td>Yes</td>\n",
       "      <td>65.00</td>\n",
       "      <td>Mkt&amp;HR</td>\n",
       "      <td>69.76</td>\n",
       "      <td>Not Placed</td>\n",
       "      <td>NaN</td>\n",
       "    </tr>\n",
       "    <tr>\n",
       "      <th>42</th>\n",
       "      <td>43</td>\n",
       "      <td>M</td>\n",
       "      <td>49.00</td>\n",
       "      <td>Others</td>\n",
       "      <td>39.00</td>\n",
       "      <td>Central</td>\n",
       "      <td>Science</td>\n",
       "      <td>65.00</td>\n",
       "      <td>Others</td>\n",
       "      <td>No</td>\n",
       "      <td>63.00</td>\n",
       "      <td>Mkt&amp;Fin</td>\n",
       "      <td>51.21</td>\n",
       "      <td>Not Placed</td>\n",
       "      <td>NaN</td>\n",
       "    </tr>\n",
       "    <tr>\n",
       "      <th>45</th>\n",
       "      <td>46</td>\n",
       "      <td>F</td>\n",
       "      <td>76.00</td>\n",
       "      <td>Central</td>\n",
       "      <td>64.00</td>\n",
       "      <td>Central</td>\n",
       "      <td>Science</td>\n",
       "      <td>72.00</td>\n",
       "      <td>Sci&amp;Tech</td>\n",
       "      <td>No</td>\n",
       "      <td>58.00</td>\n",
       "      <td>Mkt&amp;HR</td>\n",
       "      <td>66.53</td>\n",
       "      <td>Not Placed</td>\n",
       "      <td>NaN</td>\n",
       "    </tr>\n",
       "    <tr>\n",
       "      <th>46</th>\n",
       "      <td>47</td>\n",
       "      <td>F</td>\n",
       "      <td>70.89</td>\n",
       "      <td>Others</td>\n",
       "      <td>71.98</td>\n",
       "      <td>Others</td>\n",
       "      <td>Science</td>\n",
       "      <td>65.60</td>\n",
       "      <td>Comm&amp;Mgmt</td>\n",
       "      <td>No</td>\n",
       "      <td>68.00</td>\n",
       "      <td>Mkt&amp;HR</td>\n",
       "      <td>71.63</td>\n",
       "      <td>Not Placed</td>\n",
       "      <td>NaN</td>\n",
       "    </tr>\n",
       "    <tr>\n",
       "      <th>49</th>\n",
       "      <td>50</td>\n",
       "      <td>F</td>\n",
       "      <td>50.00</td>\n",
       "      <td>Others</td>\n",
       "      <td>37.00</td>\n",
       "      <td>Others</td>\n",
       "      <td>Arts</td>\n",
       "      <td>52.00</td>\n",
       "      <td>Others</td>\n",
       "      <td>No</td>\n",
       "      <td>65.00</td>\n",
       "      <td>Mkt&amp;HR</td>\n",
       "      <td>56.11</td>\n",
       "      <td>Not Placed</td>\n",
       "      <td>NaN</td>\n",
       "    </tr>\n",
       "    <tr>\n",
       "      <th>51</th>\n",
       "      <td>52</td>\n",
       "      <td>M</td>\n",
       "      <td>54.40</td>\n",
       "      <td>Central</td>\n",
       "      <td>61.12</td>\n",
       "      <td>Central</td>\n",
       "      <td>Commerce</td>\n",
       "      <td>56.20</td>\n",
       "      <td>Comm&amp;Mgmt</td>\n",
       "      <td>No</td>\n",
       "      <td>67.00</td>\n",
       "      <td>Mkt&amp;HR</td>\n",
       "      <td>62.65</td>\n",
       "      <td>Not Placed</td>\n",
       "      <td>NaN</td>\n",
       "    </tr>\n",
       "    <tr>\n",
       "      <th>52</th>\n",
       "      <td>53</td>\n",
       "      <td>F</td>\n",
       "      <td>40.89</td>\n",
       "      <td>Others</td>\n",
       "      <td>45.83</td>\n",
       "      <td>Others</td>\n",
       "      <td>Commerce</td>\n",
       "      <td>53.00</td>\n",
       "      <td>Comm&amp;Mgmt</td>\n",
       "      <td>No</td>\n",
       "      <td>71.20</td>\n",
       "      <td>Mkt&amp;HR</td>\n",
       "      <td>65.49</td>\n",
       "      <td>Not Placed</td>\n",
       "      <td>NaN</td>\n",
       "    </tr>\n",
       "    <tr>\n",
       "      <th>63</th>\n",
       "      <td>64</td>\n",
       "      <td>M</td>\n",
       "      <td>61.00</td>\n",
       "      <td>Others</td>\n",
       "      <td>70.00</td>\n",
       "      <td>Others</td>\n",
       "      <td>Commerce</td>\n",
       "      <td>64.00</td>\n",
       "      <td>Comm&amp;Mgmt</td>\n",
       "      <td>No</td>\n",
       "      <td>68.50</td>\n",
       "      <td>Mkt&amp;HR</td>\n",
       "      <td>59.50</td>\n",
       "      <td>Not Placed</td>\n",
       "      <td>NaN</td>\n",
       "    </tr>\n",
       "    <tr>\n",
       "      <th>65</th>\n",
       "      <td>66</td>\n",
       "      <td>M</td>\n",
       "      <td>54.00</td>\n",
       "      <td>Others</td>\n",
       "      <td>47.00</td>\n",
       "      <td>Others</td>\n",
       "      <td>Science</td>\n",
       "      <td>57.00</td>\n",
       "      <td>Comm&amp;Mgmt</td>\n",
       "      <td>No</td>\n",
       "      <td>89.69</td>\n",
       "      <td>Mkt&amp;HR</td>\n",
       "      <td>57.10</td>\n",
       "      <td>Not Placed</td>\n",
       "      <td>NaN</td>\n",
       "    </tr>\n",
       "    <tr>\n",
       "      <th>68</th>\n",
       "      <td>69</td>\n",
       "      <td>F</td>\n",
       "      <td>69.70</td>\n",
       "      <td>Central</td>\n",
       "      <td>47.00</td>\n",
       "      <td>Central</td>\n",
       "      <td>Commerce</td>\n",
       "      <td>72.70</td>\n",
       "      <td>Sci&amp;Tech</td>\n",
       "      <td>No</td>\n",
       "      <td>79.00</td>\n",
       "      <td>Mkt&amp;HR</td>\n",
       "      <td>59.24</td>\n",
       "      <td>Not Placed</td>\n",
       "      <td>NaN</td>\n",
       "    </tr>\n",
       "    <tr>\n",
       "      <th>75</th>\n",
       "      <td>76</td>\n",
       "      <td>F</td>\n",
       "      <td>59.00</td>\n",
       "      <td>Central</td>\n",
       "      <td>62.00</td>\n",
       "      <td>Others</td>\n",
       "      <td>Commerce</td>\n",
       "      <td>77.50</td>\n",
       "      <td>Comm&amp;Mgmt</td>\n",
       "      <td>No</td>\n",
       "      <td>74.00</td>\n",
       "      <td>Mkt&amp;HR</td>\n",
       "      <td>67.00</td>\n",
       "      <td>Not Placed</td>\n",
       "      <td>NaN</td>\n",
       "    </tr>\n",
       "    <tr>\n",
       "      <th>79</th>\n",
       "      <td>80</td>\n",
       "      <td>F</td>\n",
       "      <td>69.00</td>\n",
       "      <td>Central</td>\n",
       "      <td>62.00</td>\n",
       "      <td>Central</td>\n",
       "      <td>Science</td>\n",
       "      <td>66.00</td>\n",
       "      <td>Sci&amp;Tech</td>\n",
       "      <td>No</td>\n",
       "      <td>75.00</td>\n",
       "      <td>Mkt&amp;HR</td>\n",
       "      <td>67.99</td>\n",
       "      <td>Not Placed</td>\n",
       "      <td>NaN</td>\n",
       "    </tr>\n",
       "    <tr>\n",
       "      <th>82</th>\n",
       "      <td>83</td>\n",
       "      <td>M</td>\n",
       "      <td>63.00</td>\n",
       "      <td>Central</td>\n",
       "      <td>67.00</td>\n",
       "      <td>Central</td>\n",
       "      <td>Commerce</td>\n",
       "      <td>74.00</td>\n",
       "      <td>Comm&amp;Mgmt</td>\n",
       "      <td>No</td>\n",
       "      <td>82.00</td>\n",
       "      <td>Mkt&amp;Fin</td>\n",
       "      <td>60.44</td>\n",
       "      <td>Not Placed</td>\n",
       "      <td>NaN</td>\n",
       "    </tr>\n",
       "    <tr>\n",
       "      <th>87</th>\n",
       "      <td>88</td>\n",
       "      <td>M</td>\n",
       "      <td>59.60</td>\n",
       "      <td>Central</td>\n",
       "      <td>51.00</td>\n",
       "      <td>Central</td>\n",
       "      <td>Science</td>\n",
       "      <td>60.00</td>\n",
       "      <td>Others</td>\n",
       "      <td>No</td>\n",
       "      <td>75.00</td>\n",
       "      <td>Mkt&amp;HR</td>\n",
       "      <td>59.08</td>\n",
       "      <td>Not Placed</td>\n",
       "      <td>NaN</td>\n",
       "    </tr>\n",
       "    <tr>\n",
       "      <th>91</th>\n",
       "      <td>92</td>\n",
       "      <td>M</td>\n",
       "      <td>52.00</td>\n",
       "      <td>Central</td>\n",
       "      <td>57.00</td>\n",
       "      <td>Central</td>\n",
       "      <td>Commerce</td>\n",
       "      <td>50.80</td>\n",
       "      <td>Comm&amp;Mgmt</td>\n",
       "      <td>No</td>\n",
       "      <td>67.00</td>\n",
       "      <td>Mkt&amp;HR</td>\n",
       "      <td>62.79</td>\n",
       "      <td>Not Placed</td>\n",
       "      <td>NaN</td>\n",
       "    </tr>\n",
       "    <tr>\n",
       "      <th>93</th>\n",
       "      <td>94</td>\n",
       "      <td>M</td>\n",
       "      <td>52.00</td>\n",
       "      <td>Central</td>\n",
       "      <td>62.00</td>\n",
       "      <td>Central</td>\n",
       "      <td>Commerce</td>\n",
       "      <td>54.00</td>\n",
       "      <td>Comm&amp;Mgmt</td>\n",
       "      <td>No</td>\n",
       "      <td>72.00</td>\n",
       "      <td>Mkt&amp;HR</td>\n",
       "      <td>55.41</td>\n",
       "      <td>Not Placed</td>\n",
       "      <td>NaN</td>\n",
       "    </tr>\n",
       "    <tr>\n",
       "      <th>97</th>\n",
       "      <td>98</td>\n",
       "      <td>F</td>\n",
       "      <td>70.50</td>\n",
       "      <td>Central</td>\n",
       "      <td>62.50</td>\n",
       "      <td>Others</td>\n",
       "      <td>Commerce</td>\n",
       "      <td>61.00</td>\n",
       "      <td>Comm&amp;Mgmt</td>\n",
       "      <td>No</td>\n",
       "      <td>93.91</td>\n",
       "      <td>Mkt&amp;Fin</td>\n",
       "      <td>69.03</td>\n",
       "      <td>Not Placed</td>\n",
       "      <td>NaN</td>\n",
       "    </tr>\n",
       "    <tr>\n",
       "      <th>...</th>\n",
       "      <td>...</td>\n",
       "      <td>...</td>\n",
       "      <td>...</td>\n",
       "      <td>...</td>\n",
       "      <td>...</td>\n",
       "      <td>...</td>\n",
       "      <td>...</td>\n",
       "      <td>...</td>\n",
       "      <td>...</td>\n",
       "      <td>...</td>\n",
       "      <td>...</td>\n",
       "      <td>...</td>\n",
       "      <td>...</td>\n",
       "      <td>...</td>\n",
       "      <td>...</td>\n",
       "    </tr>\n",
       "    <tr>\n",
       "      <th>130</th>\n",
       "      <td>131</td>\n",
       "      <td>M</td>\n",
       "      <td>62.00</td>\n",
       "      <td>Central</td>\n",
       "      <td>65.00</td>\n",
       "      <td>Others</td>\n",
       "      <td>Commerce</td>\n",
       "      <td>60.00</td>\n",
       "      <td>Comm&amp;Mgmt</td>\n",
       "      <td>No</td>\n",
       "      <td>84.00</td>\n",
       "      <td>Mkt&amp;Fin</td>\n",
       "      <td>64.15</td>\n",
       "      <td>Not Placed</td>\n",
       "      <td>NaN</td>\n",
       "    </tr>\n",
       "    <tr>\n",
       "      <th>136</th>\n",
       "      <td>137</td>\n",
       "      <td>F</td>\n",
       "      <td>47.00</td>\n",
       "      <td>Central</td>\n",
       "      <td>59.00</td>\n",
       "      <td>Central</td>\n",
       "      <td>Arts</td>\n",
       "      <td>64.00</td>\n",
       "      <td>Comm&amp;Mgmt</td>\n",
       "      <td>No</td>\n",
       "      <td>78.00</td>\n",
       "      <td>Mkt&amp;Fin</td>\n",
       "      <td>61.58</td>\n",
       "      <td>Not Placed</td>\n",
       "      <td>NaN</td>\n",
       "    </tr>\n",
       "    <tr>\n",
       "      <th>141</th>\n",
       "      <td>142</td>\n",
       "      <td>M</td>\n",
       "      <td>66.00</td>\n",
       "      <td>Central</td>\n",
       "      <td>64.00</td>\n",
       "      <td>Central</td>\n",
       "      <td>Science</td>\n",
       "      <td>60.00</td>\n",
       "      <td>Comm&amp;Mgmt</td>\n",
       "      <td>No</td>\n",
       "      <td>60.00</td>\n",
       "      <td>Mkt&amp;HR</td>\n",
       "      <td>61.90</td>\n",
       "      <td>Not Placed</td>\n",
       "      <td>NaN</td>\n",
       "    </tr>\n",
       "    <tr>\n",
       "      <th>144</th>\n",
       "      <td>145</td>\n",
       "      <td>M</td>\n",
       "      <td>52.00</td>\n",
       "      <td>Others</td>\n",
       "      <td>50.00</td>\n",
       "      <td>Others</td>\n",
       "      <td>Arts</td>\n",
       "      <td>61.00</td>\n",
       "      <td>Comm&amp;Mgmt</td>\n",
       "      <td>No</td>\n",
       "      <td>60.00</td>\n",
       "      <td>Mkt&amp;Fin</td>\n",
       "      <td>58.52</td>\n",
       "      <td>Not Placed</td>\n",
       "      <td>NaN</td>\n",
       "    </tr>\n",
       "    <tr>\n",
       "      <th>149</th>\n",
       "      <td>150</td>\n",
       "      <td>M</td>\n",
       "      <td>44.00</td>\n",
       "      <td>Central</td>\n",
       "      <td>58.00</td>\n",
       "      <td>Central</td>\n",
       "      <td>Arts</td>\n",
       "      <td>55.00</td>\n",
       "      <td>Comm&amp;Mgmt</td>\n",
       "      <td>Yes</td>\n",
       "      <td>64.25</td>\n",
       "      <td>Mkt&amp;HR</td>\n",
       "      <td>58.54</td>\n",
       "      <td>Not Placed</td>\n",
       "      <td>NaN</td>\n",
       "    </tr>\n",
       "    <tr>\n",
       "      <th>155</th>\n",
       "      <td>156</td>\n",
       "      <td>M</td>\n",
       "      <td>51.57</td>\n",
       "      <td>Others</td>\n",
       "      <td>74.66</td>\n",
       "      <td>Others</td>\n",
       "      <td>Commerce</td>\n",
       "      <td>59.90</td>\n",
       "      <td>Comm&amp;Mgmt</td>\n",
       "      <td>Yes</td>\n",
       "      <td>56.15</td>\n",
       "      <td>Mkt&amp;HR</td>\n",
       "      <td>65.99</td>\n",
       "      <td>Not Placed</td>\n",
       "      <td>NaN</td>\n",
       "    </tr>\n",
       "    <tr>\n",
       "      <th>158</th>\n",
       "      <td>159</td>\n",
       "      <td>M</td>\n",
       "      <td>67.00</td>\n",
       "      <td>Others</td>\n",
       "      <td>63.00</td>\n",
       "      <td>Others</td>\n",
       "      <td>Science</td>\n",
       "      <td>64.00</td>\n",
       "      <td>Sci&amp;Tech</td>\n",
       "      <td>No</td>\n",
       "      <td>60.00</td>\n",
       "      <td>Mkt&amp;Fin</td>\n",
       "      <td>61.87</td>\n",
       "      <td>Not Placed</td>\n",
       "      <td>NaN</td>\n",
       "    </tr>\n",
       "    <tr>\n",
       "      <th>159</th>\n",
       "      <td>160</td>\n",
       "      <td>M</td>\n",
       "      <td>52.00</td>\n",
       "      <td>Central</td>\n",
       "      <td>49.00</td>\n",
       "      <td>Others</td>\n",
       "      <td>Commerce</td>\n",
       "      <td>58.00</td>\n",
       "      <td>Comm&amp;Mgmt</td>\n",
       "      <td>No</td>\n",
       "      <td>62.00</td>\n",
       "      <td>Mkt&amp;HR</td>\n",
       "      <td>60.59</td>\n",
       "      <td>Not Placed</td>\n",
       "      <td>NaN</td>\n",
       "    </tr>\n",
       "    <tr>\n",
       "      <th>161</th>\n",
       "      <td>162</td>\n",
       "      <td>M</td>\n",
       "      <td>55.60</td>\n",
       "      <td>Others</td>\n",
       "      <td>51.00</td>\n",
       "      <td>Others</td>\n",
       "      <td>Commerce</td>\n",
       "      <td>57.50</td>\n",
       "      <td>Comm&amp;Mgmt</td>\n",
       "      <td>No</td>\n",
       "      <td>57.63</td>\n",
       "      <td>Mkt&amp;HR</td>\n",
       "      <td>62.72</td>\n",
       "      <td>Not Placed</td>\n",
       "      <td>NaN</td>\n",
       "    </tr>\n",
       "    <tr>\n",
       "      <th>165</th>\n",
       "      <td>166</td>\n",
       "      <td>F</td>\n",
       "      <td>63.30</td>\n",
       "      <td>Central</td>\n",
       "      <td>78.33</td>\n",
       "      <td>Others</td>\n",
       "      <td>Commerce</td>\n",
       "      <td>74.00</td>\n",
       "      <td>Comm&amp;Mgmt</td>\n",
       "      <td>No</td>\n",
       "      <td>80.00</td>\n",
       "      <td>Mkt&amp;Fin</td>\n",
       "      <td>74.56</td>\n",
       "      <td>Not Placed</td>\n",
       "      <td>NaN</td>\n",
       "    </tr>\n",
       "    <tr>\n",
       "      <th>167</th>\n",
       "      <td>168</td>\n",
       "      <td>M</td>\n",
       "      <td>67.90</td>\n",
       "      <td>Others</td>\n",
       "      <td>62.00</td>\n",
       "      <td>Others</td>\n",
       "      <td>Science</td>\n",
       "      <td>67.00</td>\n",
       "      <td>Sci&amp;Tech</td>\n",
       "      <td>Yes</td>\n",
       "      <td>58.10</td>\n",
       "      <td>Mkt&amp;Fin</td>\n",
       "      <td>75.71</td>\n",
       "      <td>Not Placed</td>\n",
       "      <td>NaN</td>\n",
       "    </tr>\n",
       "    <tr>\n",
       "      <th>168</th>\n",
       "      <td>169</td>\n",
       "      <td>F</td>\n",
       "      <td>48.00</td>\n",
       "      <td>Central</td>\n",
       "      <td>51.00</td>\n",
       "      <td>Central</td>\n",
       "      <td>Commerce</td>\n",
       "      <td>58.00</td>\n",
       "      <td>Comm&amp;Mgmt</td>\n",
       "      <td>Yes</td>\n",
       "      <td>60.00</td>\n",
       "      <td>Mkt&amp;HR</td>\n",
       "      <td>58.79</td>\n",
       "      <td>Not Placed</td>\n",
       "      <td>NaN</td>\n",
       "    </tr>\n",
       "    <tr>\n",
       "      <th>169</th>\n",
       "      <td>170</td>\n",
       "      <td>M</td>\n",
       "      <td>59.96</td>\n",
       "      <td>Others</td>\n",
       "      <td>42.16</td>\n",
       "      <td>Others</td>\n",
       "      <td>Science</td>\n",
       "      <td>61.26</td>\n",
       "      <td>Sci&amp;Tech</td>\n",
       "      <td>No</td>\n",
       "      <td>54.48</td>\n",
       "      <td>Mkt&amp;HR</td>\n",
       "      <td>65.48</td>\n",
       "      <td>Not Placed</td>\n",
       "      <td>NaN</td>\n",
       "    </tr>\n",
       "    <tr>\n",
       "      <th>170</th>\n",
       "      <td>171</td>\n",
       "      <td>F</td>\n",
       "      <td>63.40</td>\n",
       "      <td>Others</td>\n",
       "      <td>67.20</td>\n",
       "      <td>Others</td>\n",
       "      <td>Commerce</td>\n",
       "      <td>60.00</td>\n",
       "      <td>Comm&amp;Mgmt</td>\n",
       "      <td>No</td>\n",
       "      <td>58.06</td>\n",
       "      <td>Mkt&amp;HR</td>\n",
       "      <td>69.28</td>\n",
       "      <td>Not Placed</td>\n",
       "      <td>NaN</td>\n",
       "    </tr>\n",
       "    <tr>\n",
       "      <th>173</th>\n",
       "      <td>174</td>\n",
       "      <td>F</td>\n",
       "      <td>52.00</td>\n",
       "      <td>Others</td>\n",
       "      <td>52.00</td>\n",
       "      <td>Others</td>\n",
       "      <td>Science</td>\n",
       "      <td>55.00</td>\n",
       "      <td>Sci&amp;Tech</td>\n",
       "      <td>No</td>\n",
       "      <td>67.00</td>\n",
       "      <td>Mkt&amp;HR</td>\n",
       "      <td>59.32</td>\n",
       "      <td>Not Placed</td>\n",
       "      <td>NaN</td>\n",
       "    </tr>\n",
       "    <tr>\n",
       "      <th>175</th>\n",
       "      <td>176</td>\n",
       "      <td>M</td>\n",
       "      <td>63.00</td>\n",
       "      <td>Others</td>\n",
       "      <td>62.00</td>\n",
       "      <td>Others</td>\n",
       "      <td>Science</td>\n",
       "      <td>65.00</td>\n",
       "      <td>Sci&amp;Tech</td>\n",
       "      <td>No</td>\n",
       "      <td>87.50</td>\n",
       "      <td>Mkt&amp;HR</td>\n",
       "      <td>60.69</td>\n",
       "      <td>Not Placed</td>\n",
       "      <td>NaN</td>\n",
       "    </tr>\n",
       "    <tr>\n",
       "      <th>179</th>\n",
       "      <td>180</td>\n",
       "      <td>F</td>\n",
       "      <td>77.80</td>\n",
       "      <td>Central</td>\n",
       "      <td>64.00</td>\n",
       "      <td>Central</td>\n",
       "      <td>Science</td>\n",
       "      <td>64.20</td>\n",
       "      <td>Sci&amp;Tech</td>\n",
       "      <td>No</td>\n",
       "      <td>75.50</td>\n",
       "      <td>Mkt&amp;HR</td>\n",
       "      <td>72.14</td>\n",
       "      <td>Not Placed</td>\n",
       "      <td>NaN</td>\n",
       "    </tr>\n",
       "    <tr>\n",
       "      <th>181</th>\n",
       "      <td>182</td>\n",
       "      <td>M</td>\n",
       "      <td>62.00</td>\n",
       "      <td>Central</td>\n",
       "      <td>60.33</td>\n",
       "      <td>Others</td>\n",
       "      <td>Science</td>\n",
       "      <td>64.21</td>\n",
       "      <td>Sci&amp;Tech</td>\n",
       "      <td>No</td>\n",
       "      <td>63.00</td>\n",
       "      <td>Mkt&amp;HR</td>\n",
       "      <td>60.02</td>\n",
       "      <td>Not Placed</td>\n",
       "      <td>NaN</td>\n",
       "    </tr>\n",
       "    <tr>\n",
       "      <th>182</th>\n",
       "      <td>183</td>\n",
       "      <td>M</td>\n",
       "      <td>52.00</td>\n",
       "      <td>Others</td>\n",
       "      <td>65.00</td>\n",
       "      <td>Others</td>\n",
       "      <td>Arts</td>\n",
       "      <td>57.00</td>\n",
       "      <td>Others</td>\n",
       "      <td>Yes</td>\n",
       "      <td>75.00</td>\n",
       "      <td>Mkt&amp;Fin</td>\n",
       "      <td>59.81</td>\n",
       "      <td>Not Placed</td>\n",
       "      <td>NaN</td>\n",
       "    </tr>\n",
       "    <tr>\n",
       "      <th>184</th>\n",
       "      <td>185</td>\n",
       "      <td>F</td>\n",
       "      <td>56.28</td>\n",
       "      <td>Others</td>\n",
       "      <td>62.83</td>\n",
       "      <td>Others</td>\n",
       "      <td>Commerce</td>\n",
       "      <td>59.79</td>\n",
       "      <td>Comm&amp;Mgmt</td>\n",
       "      <td>No</td>\n",
       "      <td>60.00</td>\n",
       "      <td>Mkt&amp;HR</td>\n",
       "      <td>57.29</td>\n",
       "      <td>Not Placed</td>\n",
       "      <td>NaN</td>\n",
       "    </tr>\n",
       "    <tr>\n",
       "      <th>186</th>\n",
       "      <td>187</td>\n",
       "      <td>F</td>\n",
       "      <td>52.00</td>\n",
       "      <td>Central</td>\n",
       "      <td>64.00</td>\n",
       "      <td>Central</td>\n",
       "      <td>Commerce</td>\n",
       "      <td>61.00</td>\n",
       "      <td>Comm&amp;Mgmt</td>\n",
       "      <td>No</td>\n",
       "      <td>55.00</td>\n",
       "      <td>Mkt&amp;Fin</td>\n",
       "      <td>62.93</td>\n",
       "      <td>Not Placed</td>\n",
       "      <td>NaN</td>\n",
       "    </tr>\n",
       "    <tr>\n",
       "      <th>188</th>\n",
       "      <td>189</td>\n",
       "      <td>M</td>\n",
       "      <td>61.80</td>\n",
       "      <td>Others</td>\n",
       "      <td>47.00</td>\n",
       "      <td>Others</td>\n",
       "      <td>Commerce</td>\n",
       "      <td>54.38</td>\n",
       "      <td>Comm&amp;Mgmt</td>\n",
       "      <td>No</td>\n",
       "      <td>57.00</td>\n",
       "      <td>Mkt&amp;Fin</td>\n",
       "      <td>56.13</td>\n",
       "      <td>Not Placed</td>\n",
       "      <td>NaN</td>\n",
       "    </tr>\n",
       "    <tr>\n",
       "      <th>189</th>\n",
       "      <td>190</td>\n",
       "      <td>F</td>\n",
       "      <td>54.00</td>\n",
       "      <td>Central</td>\n",
       "      <td>77.60</td>\n",
       "      <td>Others</td>\n",
       "      <td>Commerce</td>\n",
       "      <td>69.20</td>\n",
       "      <td>Comm&amp;Mgmt</td>\n",
       "      <td>No</td>\n",
       "      <td>95.65</td>\n",
       "      <td>Mkt&amp;Fin</td>\n",
       "      <td>66.94</td>\n",
       "      <td>Not Placed</td>\n",
       "      <td>NaN</td>\n",
       "    </tr>\n",
       "    <tr>\n",
       "      <th>190</th>\n",
       "      <td>191</td>\n",
       "      <td>F</td>\n",
       "      <td>64.00</td>\n",
       "      <td>Others</td>\n",
       "      <td>70.20</td>\n",
       "      <td>Central</td>\n",
       "      <td>Commerce</td>\n",
       "      <td>61.00</td>\n",
       "      <td>Comm&amp;Mgmt</td>\n",
       "      <td>No</td>\n",
       "      <td>50.00</td>\n",
       "      <td>Mkt&amp;Fin</td>\n",
       "      <td>62.50</td>\n",
       "      <td>Not Placed</td>\n",
       "      <td>NaN</td>\n",
       "    </tr>\n",
       "    <tr>\n",
       "      <th>194</th>\n",
       "      <td>195</td>\n",
       "      <td>M</td>\n",
       "      <td>52.00</td>\n",
       "      <td>Others</td>\n",
       "      <td>55.00</td>\n",
       "      <td>Others</td>\n",
       "      <td>Commerce</td>\n",
       "      <td>56.30</td>\n",
       "      <td>Comm&amp;Mgmt</td>\n",
       "      <td>No</td>\n",
       "      <td>59.00</td>\n",
       "      <td>Mkt&amp;Fin</td>\n",
       "      <td>64.74</td>\n",
       "      <td>Not Placed</td>\n",
       "      <td>NaN</td>\n",
       "    </tr>\n",
       "    <tr>\n",
       "      <th>198</th>\n",
       "      <td>199</td>\n",
       "      <td>F</td>\n",
       "      <td>67.00</td>\n",
       "      <td>Central</td>\n",
       "      <td>70.00</td>\n",
       "      <td>Central</td>\n",
       "      <td>Commerce</td>\n",
       "      <td>65.00</td>\n",
       "      <td>Others</td>\n",
       "      <td>No</td>\n",
       "      <td>88.00</td>\n",
       "      <td>Mkt&amp;HR</td>\n",
       "      <td>71.96</td>\n",
       "      <td>Not Placed</td>\n",
       "      <td>NaN</td>\n",
       "    </tr>\n",
       "    <tr>\n",
       "      <th>201</th>\n",
       "      <td>202</td>\n",
       "      <td>M</td>\n",
       "      <td>54.20</td>\n",
       "      <td>Central</td>\n",
       "      <td>63.00</td>\n",
       "      <td>Others</td>\n",
       "      <td>Science</td>\n",
       "      <td>58.00</td>\n",
       "      <td>Comm&amp;Mgmt</td>\n",
       "      <td>No</td>\n",
       "      <td>79.00</td>\n",
       "      <td>Mkt&amp;HR</td>\n",
       "      <td>58.44</td>\n",
       "      <td>Not Placed</td>\n",
       "      <td>NaN</td>\n",
       "    </tr>\n",
       "    <tr>\n",
       "      <th>206</th>\n",
       "      <td>207</td>\n",
       "      <td>M</td>\n",
       "      <td>41.00</td>\n",
       "      <td>Central</td>\n",
       "      <td>42.00</td>\n",
       "      <td>Central</td>\n",
       "      <td>Science</td>\n",
       "      <td>60.00</td>\n",
       "      <td>Comm&amp;Mgmt</td>\n",
       "      <td>No</td>\n",
       "      <td>97.00</td>\n",
       "      <td>Mkt&amp;Fin</td>\n",
       "      <td>53.39</td>\n",
       "      <td>Not Placed</td>\n",
       "      <td>NaN</td>\n",
       "    </tr>\n",
       "    <tr>\n",
       "      <th>208</th>\n",
       "      <td>209</td>\n",
       "      <td>F</td>\n",
       "      <td>43.00</td>\n",
       "      <td>Central</td>\n",
       "      <td>60.00</td>\n",
       "      <td>Others</td>\n",
       "      <td>Science</td>\n",
       "      <td>65.00</td>\n",
       "      <td>Comm&amp;Mgmt</td>\n",
       "      <td>No</td>\n",
       "      <td>92.66</td>\n",
       "      <td>Mkt&amp;HR</td>\n",
       "      <td>62.92</td>\n",
       "      <td>Not Placed</td>\n",
       "      <td>NaN</td>\n",
       "    </tr>\n",
       "    <tr>\n",
       "      <th>214</th>\n",
       "      <td>215</td>\n",
       "      <td>M</td>\n",
       "      <td>62.00</td>\n",
       "      <td>Central</td>\n",
       "      <td>58.00</td>\n",
       "      <td>Others</td>\n",
       "      <td>Science</td>\n",
       "      <td>53.00</td>\n",
       "      <td>Comm&amp;Mgmt</td>\n",
       "      <td>No</td>\n",
       "      <td>89.00</td>\n",
       "      <td>Mkt&amp;HR</td>\n",
       "      <td>60.22</td>\n",
       "      <td>Not Placed</td>\n",
       "      <td>NaN</td>\n",
       "    </tr>\n",
       "  </tbody>\n",
       "</table>\n",
       "<p>67 rows × 15 columns</p>\n",
       "</div>"
      ],
      "text/plain": [
       "     sl_no gender  ssc_p    ssc_b  hsc_p    hsc_b     hsc_s  degree_p  \\\n",
       "3        4      M  56.00  Central  52.00  Central   Science     52.00   \n",
       "5        6      M  55.00   Others  49.80   Others   Science     67.25   \n",
       "6        7      F  46.00   Others  49.20   Others  Commerce     79.00   \n",
       "9       10      M  58.00  Central  70.00  Central  Commerce     61.00   \n",
       "12      13      F  47.00  Central  55.00   Others   Science     65.00   \n",
       "14      15      M  62.00  Central  47.00  Central  Commerce     50.00   \n",
       "17      18      F  55.00  Central  67.00  Central  Commerce     64.00   \n",
       "18      19      F  63.00  Central  66.00  Central  Commerce     64.00   \n",
       "25      26      F  52.58   Others  54.60  Central  Commerce     50.20   \n",
       "29      30      M  62.00  Central  67.00  Central  Commerce     58.00   \n",
       "31      32      F  67.00  Central  53.00  Central   Science     65.00   \n",
       "34      35      M  62.00   Others  51.00   Others   Science     52.00   \n",
       "36      37      M  51.00  Central  44.00  Central  Commerce     57.00   \n",
       "41      42      F  74.00   Others  63.16   Others  Commerce     65.00   \n",
       "42      43      M  49.00   Others  39.00  Central   Science     65.00   \n",
       "45      46      F  76.00  Central  64.00  Central   Science     72.00   \n",
       "46      47      F  70.89   Others  71.98   Others   Science     65.60   \n",
       "49      50      F  50.00   Others  37.00   Others      Arts     52.00   \n",
       "51      52      M  54.40  Central  61.12  Central  Commerce     56.20   \n",
       "52      53      F  40.89   Others  45.83   Others  Commerce     53.00   \n",
       "63      64      M  61.00   Others  70.00   Others  Commerce     64.00   \n",
       "65      66      M  54.00   Others  47.00   Others   Science     57.00   \n",
       "68      69      F  69.70  Central  47.00  Central  Commerce     72.70   \n",
       "75      76      F  59.00  Central  62.00   Others  Commerce     77.50   \n",
       "79      80      F  69.00  Central  62.00  Central   Science     66.00   \n",
       "82      83      M  63.00  Central  67.00  Central  Commerce     74.00   \n",
       "87      88      M  59.60  Central  51.00  Central   Science     60.00   \n",
       "91      92      M  52.00  Central  57.00  Central  Commerce     50.80   \n",
       "93      94      M  52.00  Central  62.00  Central  Commerce     54.00   \n",
       "97      98      F  70.50  Central  62.50   Others  Commerce     61.00   \n",
       "..     ...    ...    ...      ...    ...      ...       ...       ...   \n",
       "130    131      M  62.00  Central  65.00   Others  Commerce     60.00   \n",
       "136    137      F  47.00  Central  59.00  Central      Arts     64.00   \n",
       "141    142      M  66.00  Central  64.00  Central   Science     60.00   \n",
       "144    145      M  52.00   Others  50.00   Others      Arts     61.00   \n",
       "149    150      M  44.00  Central  58.00  Central      Arts     55.00   \n",
       "155    156      M  51.57   Others  74.66   Others  Commerce     59.90   \n",
       "158    159      M  67.00   Others  63.00   Others   Science     64.00   \n",
       "159    160      M  52.00  Central  49.00   Others  Commerce     58.00   \n",
       "161    162      M  55.60   Others  51.00   Others  Commerce     57.50   \n",
       "165    166      F  63.30  Central  78.33   Others  Commerce     74.00   \n",
       "167    168      M  67.90   Others  62.00   Others   Science     67.00   \n",
       "168    169      F  48.00  Central  51.00  Central  Commerce     58.00   \n",
       "169    170      M  59.96   Others  42.16   Others   Science     61.26   \n",
       "170    171      F  63.40   Others  67.20   Others  Commerce     60.00   \n",
       "173    174      F  52.00   Others  52.00   Others   Science     55.00   \n",
       "175    176      M  63.00   Others  62.00   Others   Science     65.00   \n",
       "179    180      F  77.80  Central  64.00  Central   Science     64.20   \n",
       "181    182      M  62.00  Central  60.33   Others   Science     64.21   \n",
       "182    183      M  52.00   Others  65.00   Others      Arts     57.00   \n",
       "184    185      F  56.28   Others  62.83   Others  Commerce     59.79   \n",
       "186    187      F  52.00  Central  64.00  Central  Commerce     61.00   \n",
       "188    189      M  61.80   Others  47.00   Others  Commerce     54.38   \n",
       "189    190      F  54.00  Central  77.60   Others  Commerce     69.20   \n",
       "190    191      F  64.00   Others  70.20  Central  Commerce     61.00   \n",
       "194    195      M  52.00   Others  55.00   Others  Commerce     56.30   \n",
       "198    199      F  67.00  Central  70.00  Central  Commerce     65.00   \n",
       "201    202      M  54.20  Central  63.00   Others   Science     58.00   \n",
       "206    207      M  41.00  Central  42.00  Central   Science     60.00   \n",
       "208    209      F  43.00  Central  60.00   Others   Science     65.00   \n",
       "214    215      M  62.00  Central  58.00   Others   Science     53.00   \n",
       "\n",
       "      degree_t workex  etest_p specialisation  mba_p      status  salary  \n",
       "3     Sci&Tech     No    66.00         Mkt&HR  59.43  Not Placed     NaN  \n",
       "5     Sci&Tech    Yes    55.00        Mkt&Fin  51.58  Not Placed     NaN  \n",
       "6    Comm&Mgmt     No    74.28        Mkt&Fin  53.29  Not Placed     NaN  \n",
       "9    Comm&Mgmt     No    54.00        Mkt&Fin  52.21  Not Placed     NaN  \n",
       "12   Comm&Mgmt     No    62.00         Mkt&HR  65.04  Not Placed     NaN  \n",
       "14   Comm&Mgmt     No    76.00         Mkt&HR  54.96  Not Placed     NaN  \n",
       "17   Comm&Mgmt     No    60.00        Mkt&Fin  67.28  Not Placed     NaN  \n",
       "18   Comm&Mgmt     No    68.00         Mkt&HR  64.08  Not Placed     NaN  \n",
       "25   Comm&Mgmt    Yes    76.00        Mkt&Fin  65.33  Not Placed     NaN  \n",
       "29   Comm&Mgmt     No    77.00        Mkt&Fin  51.29  Not Placed     NaN  \n",
       "31    Sci&Tech     No    64.00         Mkt&HR  58.32  Not Placed     NaN  \n",
       "34      Others     No    68.44         Mkt&HR  62.77  Not Placed     NaN  \n",
       "36   Comm&Mgmt     No    64.00        Mkt&Fin  51.45  Not Placed     NaN  \n",
       "41   Comm&Mgmt    Yes    65.00         Mkt&HR  69.76  Not Placed     NaN  \n",
       "42      Others     No    63.00        Mkt&Fin  51.21  Not Placed     NaN  \n",
       "45    Sci&Tech     No    58.00         Mkt&HR  66.53  Not Placed     NaN  \n",
       "46   Comm&Mgmt     No    68.00         Mkt&HR  71.63  Not Placed     NaN  \n",
       "49      Others     No    65.00         Mkt&HR  56.11  Not Placed     NaN  \n",
       "51   Comm&Mgmt     No    67.00         Mkt&HR  62.65  Not Placed     NaN  \n",
       "52   Comm&Mgmt     No    71.20         Mkt&HR  65.49  Not Placed     NaN  \n",
       "63   Comm&Mgmt     No    68.50         Mkt&HR  59.50  Not Placed     NaN  \n",
       "65   Comm&Mgmt     No    89.69         Mkt&HR  57.10  Not Placed     NaN  \n",
       "68    Sci&Tech     No    79.00         Mkt&HR  59.24  Not Placed     NaN  \n",
       "75   Comm&Mgmt     No    74.00         Mkt&HR  67.00  Not Placed     NaN  \n",
       "79    Sci&Tech     No    75.00         Mkt&HR  67.99  Not Placed     NaN  \n",
       "82   Comm&Mgmt     No    82.00        Mkt&Fin  60.44  Not Placed     NaN  \n",
       "87      Others     No    75.00         Mkt&HR  59.08  Not Placed     NaN  \n",
       "91   Comm&Mgmt     No    67.00         Mkt&HR  62.79  Not Placed     NaN  \n",
       "93   Comm&Mgmt     No    72.00         Mkt&HR  55.41  Not Placed     NaN  \n",
       "97   Comm&Mgmt     No    93.91        Mkt&Fin  69.03  Not Placed     NaN  \n",
       "..         ...    ...      ...            ...    ...         ...     ...  \n",
       "130  Comm&Mgmt     No    84.00        Mkt&Fin  64.15  Not Placed     NaN  \n",
       "136  Comm&Mgmt     No    78.00        Mkt&Fin  61.58  Not Placed     NaN  \n",
       "141  Comm&Mgmt     No    60.00         Mkt&HR  61.90  Not Placed     NaN  \n",
       "144  Comm&Mgmt     No    60.00        Mkt&Fin  58.52  Not Placed     NaN  \n",
       "149  Comm&Mgmt    Yes    64.25         Mkt&HR  58.54  Not Placed     NaN  \n",
       "155  Comm&Mgmt    Yes    56.15         Mkt&HR  65.99  Not Placed     NaN  \n",
       "158   Sci&Tech     No    60.00        Mkt&Fin  61.87  Not Placed     NaN  \n",
       "159  Comm&Mgmt     No    62.00         Mkt&HR  60.59  Not Placed     NaN  \n",
       "161  Comm&Mgmt     No    57.63         Mkt&HR  62.72  Not Placed     NaN  \n",
       "165  Comm&Mgmt     No    80.00        Mkt&Fin  74.56  Not Placed     NaN  \n",
       "167   Sci&Tech    Yes    58.10        Mkt&Fin  75.71  Not Placed     NaN  \n",
       "168  Comm&Mgmt    Yes    60.00         Mkt&HR  58.79  Not Placed     NaN  \n",
       "169   Sci&Tech     No    54.48         Mkt&HR  65.48  Not Placed     NaN  \n",
       "170  Comm&Mgmt     No    58.06         Mkt&HR  69.28  Not Placed     NaN  \n",
       "173   Sci&Tech     No    67.00         Mkt&HR  59.32  Not Placed     NaN  \n",
       "175   Sci&Tech     No    87.50         Mkt&HR  60.69  Not Placed     NaN  \n",
       "179   Sci&Tech     No    75.50         Mkt&HR  72.14  Not Placed     NaN  \n",
       "181   Sci&Tech     No    63.00         Mkt&HR  60.02  Not Placed     NaN  \n",
       "182     Others    Yes    75.00        Mkt&Fin  59.81  Not Placed     NaN  \n",
       "184  Comm&Mgmt     No    60.00         Mkt&HR  57.29  Not Placed     NaN  \n",
       "186  Comm&Mgmt     No    55.00        Mkt&Fin  62.93  Not Placed     NaN  \n",
       "188  Comm&Mgmt     No    57.00        Mkt&Fin  56.13  Not Placed     NaN  \n",
       "189  Comm&Mgmt     No    95.65        Mkt&Fin  66.94  Not Placed     NaN  \n",
       "190  Comm&Mgmt     No    50.00        Mkt&Fin  62.50  Not Placed     NaN  \n",
       "194  Comm&Mgmt     No    59.00        Mkt&Fin  64.74  Not Placed     NaN  \n",
       "198     Others     No    88.00         Mkt&HR  71.96  Not Placed     NaN  \n",
       "201  Comm&Mgmt     No    79.00         Mkt&HR  58.44  Not Placed     NaN  \n",
       "206  Comm&Mgmt     No    97.00        Mkt&Fin  53.39  Not Placed     NaN  \n",
       "208  Comm&Mgmt     No    92.66         Mkt&HR  62.92  Not Placed     NaN  \n",
       "214  Comm&Mgmt     No    89.00         Mkt&HR  60.22  Not Placed     NaN  \n",
       "\n",
       "[67 rows x 15 columns]"
      ]
     },
     "execution_count": 6,
     "metadata": {},
     "output_type": "execute_result"
    }
   ],
   "source": [
    "# Rows whose Salary value is not present\n",
    "df[df['salary'].isnull()]"
   ]
  },
  {
   "cell_type": "code",
   "execution_count": 7,
   "metadata": {
    "execution": {
     "iopub.execute_input": "2021-05-18T19:26:27.148354Z",
     "iopub.status.busy": "2021-05-18T19:26:27.147830Z",
     "iopub.status.idle": "2021-05-18T19:26:27.151482Z",
     "shell.execute_reply": "2021-05-18T19:26:27.151884Z"
    },
    "papermill": {
     "duration": 0.045205,
     "end_time": "2021-05-18T19:26:27.152034",
     "exception": false,
     "start_time": "2021-05-18T19:26:27.106829",
     "status": "completed"
    },
    "tags": []
   },
   "outputs": [],
   "source": [
    "# Let's replace those NaN value with 0\n",
    "df['salary'] = df['salary'].fillna(0)"
   ]
  },
  {
   "cell_type": "code",
   "execution_count": 8,
   "metadata": {
    "execution": {
     "iopub.execute_input": "2021-05-18T19:26:27.241729Z",
     "iopub.status.busy": "2021-05-18T19:26:27.239648Z",
     "iopub.status.idle": "2021-05-18T19:26:27.247492Z",
     "shell.execute_reply": "2021-05-18T19:26:27.247047Z"
    },
    "papermill": {
     "duration": 0.049084,
     "end_time": "2021-05-18T19:26:27.247626",
     "exception": false,
     "start_time": "2021-05-18T19:26:27.198542",
     "status": "completed"
    },
    "tags": []
   },
   "outputs": [
    {
     "data": {
      "text/plain": [
       "sl_no             0\n",
       "gender            0\n",
       "ssc_p             0\n",
       "ssc_b             0\n",
       "hsc_p             0\n",
       "hsc_b             0\n",
       "hsc_s             0\n",
       "degree_p          0\n",
       "degree_t          0\n",
       "workex            0\n",
       "etest_p           0\n",
       "specialisation    0\n",
       "mba_p             0\n",
       "status            0\n",
       "salary            0\n",
       "dtype: int64"
      ]
     },
     "execution_count": 8,
     "metadata": {},
     "output_type": "execute_result"
    }
   ],
   "source": [
    "# Checking all the null values are removed\n",
    "df.isnull().sum()"
   ]
  },
  {
   "cell_type": "markdown",
   "metadata": {
    "papermill": {
     "duration": 0.038156,
     "end_time": "2021-05-18T19:26:27.324554",
     "exception": false,
     "start_time": "2021-05-18T19:26:27.286398",
     "status": "completed"
    },
    "tags": []
   },
   "source": [
    "### Univariate Exploration:"
   ]
  },
  {
   "cell_type": "markdown",
   "metadata": {
    "papermill": {
     "duration": 0.039141,
     "end_time": "2021-05-18T19:26:27.402248",
     "exception": false,
     "start_time": "2021-05-18T19:26:27.363107",
     "status": "completed"
    },
    "tags": []
   },
   "source": [
    "#### Different Candidate count in Placement Drive:"
   ]
  },
  {
   "cell_type": "code",
   "execution_count": 9,
   "metadata": {
    "execution": {
     "iopub.execute_input": "2021-05-18T19:26:27.486199Z",
     "iopub.status.busy": "2021-05-18T19:26:27.485485Z",
     "iopub.status.idle": "2021-05-18T19:26:27.488671Z",
     "shell.execute_reply": "2021-05-18T19:26:27.489043Z"
    },
    "papermill": {
     "duration": 0.048125,
     "end_time": "2021-05-18T19:26:27.489200",
     "exception": false,
     "start_time": "2021-05-18T19:26:27.441075",
     "status": "completed"
    },
    "tags": []
   },
   "outputs": [
    {
     "data": {
      "text/plain": [
       "M    139\n",
       "F     76\n",
       "Name: gender, dtype: int64"
      ]
     },
     "execution_count": 9,
     "metadata": {},
     "output_type": "execute_result"
    }
   ],
   "source": [
    "# Let's check the different data of Gender column\n",
    "df['gender'].value_counts()"
   ]
  },
  {
   "cell_type": "code",
   "execution_count": 10,
   "metadata": {
    "execution": {
     "iopub.execute_input": "2021-05-18T19:26:27.591313Z",
     "iopub.status.busy": "2021-05-18T19:26:27.590685Z",
     "iopub.status.idle": "2021-05-18T19:26:27.732879Z",
     "shell.execute_reply": "2021-05-18T19:26:27.732432Z"
    },
    "papermill": {
     "duration": 0.204775,
     "end_time": "2021-05-18T19:26:27.733009",
     "exception": false,
     "start_time": "2021-05-18T19:26:27.528234",
     "status": "completed"
    },
    "tags": []
   },
   "outputs": [
    {
     "data": {
      "image/png": "[encoded data removed]",
      "text/plain": [
       "<Figure size 1058.4x595.44 with 1 Axes>"
      ]
     },
     "metadata": {
      "needs_background": "light"
     },
     "output_type": "display_data"
    }
   ],
   "source": [
    "# Exploration of different Candidate\n",
    "plt.figure(figsize = (14.7, 8.27))\n",
    "viscolor = sb.color_palette('colorblind')[0]\n",
    "ax = sb.countplot(data = df, x = 'gender', color = viscolor, order = df['gender'].value_counts().index)\n",
    "plt.xlabel('Gender')\n",
    "plt.ylabel('Count')\n",
    "for i, v in df['gender'].value_counts().reset_index().iterrows():\n",
    "    ax.text(i, v.gender + 0.2 , v.gender, color='black')\n",
    "plt.title('Different Candidate in Placement Drive');"
   ]
  },
  {
   "cell_type": "markdown",
   "metadata": {
    "papermill": {
     "duration": 0.040191,
     "end_time": "2021-05-18T19:26:27.812779",
     "exception": false,
     "start_time": "2021-05-18T19:26:27.772588",
     "status": "completed"
    },
    "tags": []
   },
   "source": [
    "- We can see here that in the record of the placement drive there is more number of Male candidates than that of female candidates."
   ]
  },
  {
   "cell_type": "markdown",
   "metadata": {
    "papermill": {
     "duration": 0.039235,
     "end_time": "2021-05-18T19:26:27.892814",
     "exception": false,
     "start_time": "2021-05-18T19:26:27.853579",
     "status": "completed"
    },
    "tags": []
   },
   "source": [
    "#### Education Specialization:"
   ]
  },
  {
   "cell_type": "code",
   "execution_count": 11,
   "metadata": {
    "execution": {
     "iopub.execute_input": "2021-05-18T19:26:27.979117Z",
     "iopub.status.busy": "2021-05-18T19:26:27.978547Z",
     "iopub.status.idle": "2021-05-18T19:26:27.982168Z",
     "shell.execute_reply": "2021-05-18T19:26:27.981706Z"
    },
    "papermill": {
     "duration": 0.050264,
     "end_time": "2021-05-18T19:26:27.982307",
     "exception": false,
     "start_time": "2021-05-18T19:26:27.932043",
     "status": "completed"
    },
    "tags": []
   },
   "outputs": [
    {
     "data": {
      "text/plain": [
       "Commerce    113\n",
       "Science      91\n",
       "Arts         11\n",
       "Name: hsc_s, dtype: int64"
      ]
     },
     "execution_count": 11,
     "metadata": {},
     "output_type": "execute_result"
    }
   ],
   "source": [
    "# Value of count of different Specialization\n",
    "df['hsc_s'].value_counts()"
   ]
  },
  {
   "cell_type": "code",
   "execution_count": 12,
   "metadata": {
    "execution": {
     "iopub.execute_input": "2021-05-18T19:26:28.065880Z",
     "iopub.status.busy": "2021-05-18T19:26:28.065302Z",
     "iopub.status.idle": "2021-05-18T19:26:28.200026Z",
     "shell.execute_reply": "2021-05-18T19:26:28.199470Z"
    },
    "papermill": {
     "duration": 0.17732,
     "end_time": "2021-05-18T19:26:28.200151",
     "exception": false,
     "start_time": "2021-05-18T19:26:28.022831",
     "status": "completed"
    },
    "tags": []
   },
   "outputs": [
    {
     "data": {
      "image/png": "[encoded data removed]",
      "text/plain": [
       "<Figure size 1058.4x595.44 with 1 Axes>"
      ]
     },
     "metadata": {},
     "output_type": "display_data"
    }
   ],
   "source": [
    "# Visualization of higher secondary specialization\n",
    "cls_name = ['Commerce', 'Science', 'Arts']\n",
    "fig, ax = plt.subplots(figsize = (14.7, 8.27))\n",
    "wedges, text, autotext = ax.pie(df['hsc_s'].value_counts(), labels = cls_name, autopct = '%1.2f%%')\n",
    "ax.legend(wedges, cls_name, loc = \"center left\", bbox_to_anchor =(1, 0, 0.5, 1))\n",
    "ax.set_title(\"Proportion of Different Specialization in Higher Secondary\");"
   ]
  },
  {
   "cell_type": "markdown",
   "metadata": {
    "papermill": {
     "duration": 0.041191,
     "end_time": "2021-05-18T19:26:28.284467",
     "exception": false,
     "start_time": "2021-05-18T19:26:28.243276",
     "status": "completed"
    },
    "tags": []
   },
   "source": [
    "- We can see that in placement drive more candidate are from Commerce and Science background. Less candidates are from Art's background means only 5.12%."
   ]
  },
  {
   "cell_type": "code",
   "execution_count": 13,
   "metadata": {
    "execution": {
     "iopub.execute_input": "2021-05-18T19:26:28.373439Z",
     "iopub.status.busy": "2021-05-18T19:26:28.372895Z",
     "iopub.status.idle": "2021-05-18T19:26:28.376635Z",
     "shell.execute_reply": "2021-05-18T19:26:28.376202Z"
    },
    "papermill": {
     "duration": 0.051172,
     "end_time": "2021-05-18T19:26:28.376768",
     "exception": false,
     "start_time": "2021-05-18T19:26:28.325596",
     "status": "completed"
    },
    "tags": []
   },
   "outputs": [
    {
     "data": {
      "text/plain": [
       "Comm&Mgmt    145\n",
       "Sci&Tech      59\n",
       "Others        11\n",
       "Name: degree_t, dtype: int64"
      ]
     },
     "execution_count": 13,
     "metadata": {},
     "output_type": "execute_result"
    }
   ],
   "source": [
    "# Value count of Degree specialization\n",
    "df['degree_t'].value_counts()"
   ]
  },
  {
   "cell_type": "code",
   "execution_count": 14,
   "metadata": {
    "execution": {
     "iopub.execute_input": "2021-05-18T19:26:28.466568Z",
     "iopub.status.busy": "2021-05-18T19:26:28.465972Z",
     "iopub.status.idle": "2021-05-18T19:26:28.468738Z",
     "shell.execute_reply": "2021-05-18T19:26:28.469172Z"
    },
    "papermill": {
     "duration": 0.050367,
     "end_time": "2021-05-18T19:26:28.469345",
     "exception": false,
     "start_time": "2021-05-18T19:26:28.418978",
     "status": "completed"
    },
    "tags": []
   },
   "outputs": [
    {
     "data": {
      "text/plain": [
       "Mkt&Fin    120\n",
       "Mkt&HR      95\n",
       "Name: specialisation, dtype: int64"
      ]
     },
     "execution_count": 14,
     "metadata": {},
     "output_type": "execute_result"
    }
   ],
   "source": [
    "# Value count of Postgrad specialization\n",
    "df['specialisation'].value_counts()"
   ]
  },
  {
   "cell_type": "code",
   "execution_count": 15,
   "metadata": {
    "execution": {
     "iopub.execute_input": "2021-05-18T19:26:28.556061Z",
     "iopub.status.busy": "2021-05-18T19:26:28.555529Z",
     "iopub.status.idle": "2021-05-18T19:26:28.673014Z",
     "shell.execute_reply": "2021-05-18T19:26:28.673439Z"
    },
    "papermill": {
     "duration": 0.162549,
     "end_time": "2021-05-18T19:26:28.673613",
     "exception": false,
     "start_time": "2021-05-18T19:26:28.511064",
     "status": "completed"
    },
    "tags": []
   },
   "outputs": [
    {
     "data": {
      "image/png": "[encoded data removed]",
      "text/plain": [
       "<Figure size 1058.4x595.44 with 1 Axes>"
      ]
     },
     "metadata": {},
     "output_type": "display_data"
    }
   ],
   "source": [
    "# Visualization of Degree Specialization\n",
    "fig, ax = plt.subplots(figsize = (14.7, 8.27))\n",
    "wedges, text, autotext = ax.pie(df['degree_t'].value_counts(),\n",
    "                                labels = df['degree_t'].value_counts().index, \n",
    "                                autopct = '%1.2f%%')\n",
    "ax.legend(wedges, df['degree_t'].value_counts().index,\n",
    "          loc = \"center left\", bbox_to_anchor =(1, 0, 0.5, 1))\n",
    "ax.set_title(\"Proportion of Different Specialization in Degree\");"
   ]
  },
  {
   "cell_type": "markdown",
   "metadata": {
    "papermill": {
     "duration": 0.042857,
     "end_time": "2021-05-18T19:26:28.759056",
     "exception": false,
     "start_time": "2021-05-18T19:26:28.716199",
     "status": "completed"
    },
    "tags": []
   },
   "source": [
    "- Here we can see that more Candidate have Comm&Mgmt degree followed by Sci&Tech."
   ]
  },
  {
   "cell_type": "code",
   "execution_count": 16,
   "metadata": {
    "execution": {
     "iopub.execute_input": "2021-05-18T19:26:28.847498Z",
     "iopub.status.busy": "2021-05-18T19:26:28.846964Z",
     "iopub.status.idle": "2021-05-18T19:26:28.951527Z",
     "shell.execute_reply": "2021-05-18T19:26:28.951062Z"
    },
    "papermill": {
     "duration": 0.149681,
     "end_time": "2021-05-18T19:26:28.951654",
     "exception": false,
     "start_time": "2021-05-18T19:26:28.801973",
     "status": "completed"
    },
    "tags": []
   },
   "outputs": [
    {
     "data": {
      "image/png": "[encoded data removed]",
      "text/plain": [
       "<Figure size 1058.4x595.44 with 1 Axes>"
      ]
     },
     "metadata": {},
     "output_type": "display_data"
    }
   ],
   "source": [
    "# Visualization of Postgrad Specialization\n",
    "fig, ax = plt.subplots(figsize = (14.7, 8.27))\n",
    "wedges, text, autotext = ax.pie(df['specialisation'].value_counts(),\n",
    "                                labels = df['specialisation'].value_counts().index, \n",
    "                                autopct = '%1.2f%%')\n",
    "ax.legend(wedges, df['specialisation'].value_counts().index,\n",
    "          loc = \"center left\", bbox_to_anchor =(1, 0, 0.5, 1))\n",
    "ax.set_title(\"Proportion of Different Specialization in Post Graduation\");"
   ]
  },
  {
   "cell_type": "markdown",
   "metadata": {
    "papermill": {
     "duration": 0.043255,
     "end_time": "2021-05-18T19:26:29.038904",
     "exception": false,
     "start_time": "2021-05-18T19:26:28.995649",
     "status": "completed"
    },
    "tags": []
   },
   "source": [
    "- Here we can see that 55.81% belongs to Mkt&Fin postgraduation program. Other belongs to Mkt&HR background."
   ]
  },
  {
   "cell_type": "markdown",
   "metadata": {
    "papermill": {
     "duration": 0.043967,
     "end_time": "2021-05-18T19:26:29.126533",
     "exception": false,
     "start_time": "2021-05-18T19:26:29.082566",
     "status": "completed"
    },
    "tags": []
   },
   "source": [
    "#### Creating Category of Mark Secured in Different Educational Phase:\n",
    "- Here we will create 3 category:\n",
    "    - 85% + \n",
    "    - 60% - 85%\n",
    "    - < 60% "
   ]
  },
  {
   "cell_type": "code",
   "execution_count": 17,
   "metadata": {
    "execution": {
     "iopub.execute_input": "2021-05-18T19:26:29.234972Z",
     "iopub.status.busy": "2021-05-18T19:26:29.234393Z",
     "iopub.status.idle": "2021-05-18T19:26:29.237312Z",
     "shell.execute_reply": "2021-05-18T19:26:29.237708Z"
    },
    "papermill": {
     "duration": 0.063879,
     "end_time": "2021-05-18T19:26:29.237865",
     "exception": false,
     "start_time": "2021-05-18T19:26:29.173986",
     "status": "completed"
    },
    "tags": []
   },
   "outputs": [],
   "source": [
    "# Defining a function which will be used to determine the above category.\n",
    "# We will store that in a new category\n",
    "def checkCateg(perct):\n",
    "    if(perct >= 85):\n",
    "        return '85% +'\n",
    "    elif(perct < 85 and perct >= 60):\n",
    "        return '60% - 85%'\n",
    "    else:\n",
    "        return '< 60%'"
   ]
  },
  {
   "cell_type": "code",
   "execution_count": 18,
   "metadata": {
    "execution": {
     "iopub.execute_input": "2021-05-18T19:26:29.338458Z",
     "iopub.status.busy": "2021-05-18T19:26:29.337883Z",
     "iopub.status.idle": "2021-05-18T19:26:29.340345Z",
     "shell.execute_reply": "2021-05-18T19:26:29.340717Z"
    },
    "papermill": {
     "duration": 0.055772,
     "end_time": "2021-05-18T19:26:29.340874",
     "exception": false,
     "start_time": "2021-05-18T19:26:29.285102",
     "status": "completed"
    },
    "tags": []
   },
   "outputs": [],
   "source": [
    "# Adding new columns in our dataframe with this category\n",
    "df['ssc_p_catg'] = df['ssc_p'].apply(checkCateg)\n",
    "df['hsc_p_catg'] = df['hsc_p'].apply(checkCateg)\n",
    "df['mba_p_catg'] = df['mba_p'].apply(checkCateg)\n",
    "df['degree_p_catg'] = df['degree_p'].apply(checkCateg)\n",
    "df['etest_p_catg'] = df['etest_p'].apply(checkCateg)"
   ]
  },
  {
   "cell_type": "code",
   "execution_count": 19,
   "metadata": {
    "execution": {
     "iopub.execute_input": "2021-05-18T19:26:29.452084Z",
     "iopub.status.busy": "2021-05-18T19:26:29.447023Z",
     "iopub.status.idle": "2021-05-18T19:26:29.724743Z",
     "shell.execute_reply": "2021-05-18T19:26:29.725152Z"
    },
    "papermill": {
     "duration": 0.34071,
     "end_time": "2021-05-18T19:26:29.725324",
     "exception": false,
     "start_time": "2021-05-18T19:26:29.384614",
     "status": "completed"
    },
    "tags": []
   },
   "outputs": [
    {
     "data": {
      "image/png": "[encoded data removed]",
      "text/plain": [
       "<Figure size 1058.4x595.44 with 2 Axes>"
      ]
     },
     "metadata": {},
     "output_type": "display_data"
    }
   ],
   "source": [
    "# Let's visualize what is proportion of different score in HSC and SSC\n",
    "categ_cls = ['60% - 85%', '< 60%', '85% +']\n",
    "fig, (ax1, ax2) = plt.subplots(1, 2, figsize =(14.70, 8.27))\n",
    "wedges, text, autotext = ax1.pie(df['hsc_p_catg'].value_counts(),\n",
    "                                 labels = df['hsc_p_catg'].value_counts().index,\n",
    "                                 autopct = '%1.2f%%')\n",
    "ax1.set_title(\"Score of Different Candidate in HSC\");\n",
    "plt.tight_layout()\n",
    "wedges, text, autotext = ax2.pie(df['ssc_p_catg'].value_counts(),\n",
    "                                 labels = df['ssc_p_catg'].value_counts().index,\n",
    "                                 autopct = '%1.2f%%')\n",
    "ax2.set_title(\"Score of Different Candidate in SSC\");\n",
    "ax2.legend(wedges, categ_cls,\n",
    "           loc = \"upper right\", bbox_to_anchor =(1, 0, 0.5, 1));"
   ]
  },
  {
   "cell_type": "markdown",
   "metadata": {
    "papermill": {
     "duration": 0.046191,
     "end_time": "2021-05-18T19:26:29.816431",
     "exception": false,
     "start_time": "2021-05-18T19:26:29.770240",
     "status": "completed"
    },
    "tags": []
   },
   "source": [
    "##### Insights:\n",
    "- We can see that in the placement drive more number of candidate belong to 60%-85% cateogry in HSC and SSC. Only 4 to 6% candidate belongs to 85% category in HSC and SSC.\n",
    "- We will further visualize the other score and gain some insight."
   ]
  },
  {
   "cell_type": "code",
   "execution_count": 20,
   "metadata": {
    "execution": {
     "iopub.execute_input": "2021-05-18T19:26:29.928756Z",
     "iopub.status.busy": "2021-05-18T19:26:29.927676Z",
     "iopub.status.idle": "2021-05-18T19:26:30.211378Z",
     "shell.execute_reply": "2021-05-18T19:26:30.210899Z"
    },
    "papermill": {
     "duration": 0.348927,
     "end_time": "2021-05-18T19:26:30.211501",
     "exception": false,
     "start_time": "2021-05-18T19:26:29.862574",
     "status": "completed"
    },
    "tags": []
   },
   "outputs": [
    {
     "data": {
      "image/png": "[encoded data removed]",
      "text/plain": [
       "<Figure size 1058.4x595.44 with 2 Axes>"
      ]
     },
     "metadata": {},
     "output_type": "display_data"
    }
   ],
   "source": [
    "# Let's visualize what is proportion of different score in Degree and MBA\n",
    "categ_cls = ['60% - 85%', '< 60%', '85% +']\n",
    "fig, (ax1, ax2) = plt.subplots(1, 2, figsize =(14.70, 8.27))\n",
    "wedges, text, autotext = ax1.pie(df['degree_p_catg'].value_counts(),\n",
    "                                 labels = df['degree_p_catg'].value_counts().index,\n",
    "                                 autopct = '%1.2f%%')\n",
    "ax1.set_title(\"Score of Different Candidate in Degree\");\n",
    "plt.tight_layout()\n",
    "wedges, text, autotext = ax2.pie(df['mba_p_catg'].value_counts(),\n",
    "                                 labels = df['mba_p_catg'].value_counts().index,\n",
    "                                 autopct = '%1.2f%%')\n",
    "ax2.set_title(\"Score of Different Candidate in MBA\");\n",
    "handles, labels = ax1.get_legend_handles_labels()\n",
    "fig.legend(handles, labels, loc='upper right');"
   ]
  },
  {
   "cell_type": "markdown",
   "metadata": {
    "papermill": {
     "duration": 0.045926,
     "end_time": "2021-05-18T19:26:30.303775",
     "exception": false,
     "start_time": "2021-05-18T19:26:30.257849",
     "status": "completed"
    },
    "tags": []
   },
   "source": [
    "- Here we can see the similar trend as previously. We can see more number of candidate belong to 60%-85% category.\n",
    "- In Degree only 0.93% candidate belong to \"85% +\" category. In this placement drive No candidate have \"85% +\" in MBA."
   ]
  },
  {
   "cell_type": "code",
   "execution_count": 21,
   "metadata": {
    "execution": {
     "iopub.execute_input": "2021-05-18T19:26:30.399499Z",
     "iopub.status.busy": "2021-05-18T19:26:30.398951Z",
     "iopub.status.idle": "2021-05-18T19:26:30.611676Z",
     "shell.execute_reply": "2021-05-18T19:26:30.611142Z"
    },
    "papermill": {
     "duration": 0.261347,
     "end_time": "2021-05-18T19:26:30.611797",
     "exception": false,
     "start_time": "2021-05-18T19:26:30.350450",
     "status": "completed"
    },
    "tags": []
   },
   "outputs": [
    {
     "data": {
      "image/png": "[encoded data removed]",
      "text/plain": [
       "<Figure size 1058.4x595.44 with 1 Axes>"
      ]
     },
     "metadata": {},
     "output_type": "display_data"
    }
   ],
   "source": [
    "# Finally we will visualize Etest\n",
    "fig, ax = plt.subplots(figsize =(14.70, 8.27))\n",
    "wedges, text, autotext = ax.pie(df['etest_p_catg'].value_counts(),\n",
    "                                labels = df['etest_p_catg'].value_counts().index,\n",
    "                                autopct = '%1.2f%%')\n",
    "ax.set_title(\"Score of Different Candidate ETest\")\n",
    "handles, labels = ax.get_legend_handles_labels()\n",
    "fig.legend(handles, labels,loc = \"right\");"
   ]
  },
  {
   "cell_type": "markdown",
   "metadata": {
    "papermill": {
     "duration": 0.051453,
     "end_time": "2021-05-18T19:26:30.711574",
     "exception": false,
     "start_time": "2021-05-18T19:26:30.660121",
     "status": "completed"
    },
    "tags": []
   },
   "source": [
    "- In ETest we can observe the same trend as above. But we can see 22.33% candidate belong to 85% + category."
   ]
  },
  {
   "cell_type": "markdown",
   "metadata": {
    "papermill": {
     "duration": 0.04763,
     "end_time": "2021-05-18T19:26:30.807684",
     "exception": false,
     "start_time": "2021-05-18T19:26:30.760054",
     "status": "completed"
    },
    "tags": []
   },
   "source": [
    "#### Visualization of Work Experience of Candidates in placement drive:"
   ]
  },
  {
   "cell_type": "code",
   "execution_count": 22,
   "metadata": {
    "execution": {
     "iopub.execute_input": "2021-05-18T19:26:30.932135Z",
     "iopub.status.busy": "2021-05-18T19:26:30.931550Z",
     "iopub.status.idle": "2021-05-18T19:26:31.034912Z",
     "shell.execute_reply": "2021-05-18T19:26:31.034318Z"
    },
    "papermill": {
     "duration": 0.178259,
     "end_time": "2021-05-18T19:26:31.035039",
     "exception": false,
     "start_time": "2021-05-18T19:26:30.856780",
     "status": "completed"
    },
    "tags": []
   },
   "outputs": [
    {
     "data": {
      "image/png": "[encoded data removed]",
      "text/plain": [
       "<Figure size 1058.4x595.44 with 1 Axes>"
      ]
     },
     "metadata": {
      "needs_background": "light"
     },
     "output_type": "display_data"
    }
   ],
   "source": [
    "# Visualize of Work Experience\n",
    "plt.figure(figsize = (14.7, 8.27))\n",
    "ax = sb.countplot(data = df, x = 'workex', color = viscolor, order = df['workex'].value_counts().index)\n",
    "plt.xlabel('Work Experience')\n",
    "plt.ylabel('Count')\n",
    "for i, v in df['workex'].value_counts().reset_index().iterrows():\n",
    "    ax.text(i, v.workex + 0.2 , v.workex, color='black')\n",
    "plt.title('Work Experience of Candidates in Placement Drive');"
   ]
  },
  {
   "cell_type": "markdown",
   "metadata": {
    "papermill": {
     "duration": 0.049421,
     "end_time": "2021-05-18T19:26:31.132658",
     "exception": false,
     "start_time": "2021-05-18T19:26:31.083237",
     "status": "completed"
    },
    "tags": []
   },
   "source": [
    "- We can see that more candidate has no work experience. "
   ]
  },
  {
   "cell_type": "markdown",
   "metadata": {
    "papermill": {
     "duration": 0.048277,
     "end_time": "2021-05-18T19:26:31.231026",
     "exception": false,
     "start_time": "2021-05-18T19:26:31.182749",
     "status": "completed"
    },
    "tags": []
   },
   "source": [
    "#### Candidate Placement Status:"
   ]
  },
  {
   "cell_type": "code",
   "execution_count": 23,
   "metadata": {
    "execution": {
     "iopub.execute_input": "2021-05-18T19:26:31.353847Z",
     "iopub.status.busy": "2021-05-18T19:26:31.335700Z",
     "iopub.status.idle": "2021-05-18T19:26:31.457843Z",
     "shell.execute_reply": "2021-05-18T19:26:31.457363Z"
    },
    "papermill": {
     "duration": 0.178578,
     "end_time": "2021-05-18T19:26:31.457982",
     "exception": false,
     "start_time": "2021-05-18T19:26:31.279404",
     "status": "completed"
    },
    "tags": []
   },
   "outputs": [
    {
     "data": {
      "image/png": "[encoded data removed]",
      "text/plain": [
       "<Figure size 1058.4x595.44 with 1 Axes>"
      ]
     },
     "metadata": {
      "needs_background": "light"
     },
     "output_type": "display_data"
    }
   ],
   "source": [
    "# Visualizing candidate placement status\n",
    "plt.figure(figsize = (14.7, 8.27))\n",
    "ax = sb.countplot(data = df, x = 'status', color = viscolor,\n",
    "            order = df['status'].value_counts().index)\n",
    "plt.xlabel('Placement Status')\n",
    "plt.ylabel('Count')\n",
    "for i, v in df['status'].value_counts().reset_index().iterrows():\n",
    "    ax.text(i, v.status + 0.2 , v.status, color='black')\n",
    "plt.title('Candidate Placement Status');"
   ]
  },
  {
   "cell_type": "markdown",
   "metadata": {
    "papermill": {
     "duration": 0.048955,
     "end_time": "2021-05-18T19:26:31.556547",
     "exception": false,
     "start_time": "2021-05-18T19:26:31.507592",
     "status": "completed"
    },
    "tags": []
   },
   "source": [
    "- Here we can see that more of the candidate are placed.\n",
    "\n",
    "In the next exploration we will see the relation between two variable and gain some insights."
   ]
  },
  {
   "cell_type": "markdown",
   "metadata": {
    "papermill": {
     "duration": 0.048632,
     "end_time": "2021-05-18T19:26:31.654326",
     "exception": false,
     "start_time": "2021-05-18T19:26:31.605694",
     "status": "completed"
    },
    "tags": []
   },
   "source": [
    "### Bivariate Exploration:"
   ]
  },
  {
   "cell_type": "markdown",
   "metadata": {
    "papermill": {
     "duration": 0.048616,
     "end_time": "2021-05-18T19:26:31.751773",
     "exception": false,
     "start_time": "2021-05-18T19:26:31.703157",
     "status": "completed"
    },
    "tags": []
   },
   "source": [
    "#### Placment Status of Different Candidate:"
   ]
  },
  {
   "cell_type": "code",
   "execution_count": 24,
   "metadata": {
    "execution": {
     "iopub.execute_input": "2021-05-18T19:26:31.857913Z",
     "iopub.status.busy": "2021-05-18T19:26:31.857358Z",
     "iopub.status.idle": "2021-05-18T19:26:31.860041Z",
     "shell.execute_reply": "2021-05-18T19:26:31.859503Z"
    },
    "papermill": {
     "duration": 0.059376,
     "end_time": "2021-05-18T19:26:31.860174",
     "exception": false,
     "start_time": "2021-05-18T19:26:31.800798",
     "status": "completed"
    },
    "tags": []
   },
   "outputs": [],
   "source": [
    "# defining a function which will show the frequency of the bar in the countplot\n",
    "def withhue(ax, feature, nooffeature, huecategories):\n",
    "    a = [p.get_height() for p in ax.patches]\n",
    "    patch = [p for p in ax.patches]\n",
    "    for i in range(nooffeature):\n",
    "        total = df[feature].value_counts().values[i]\n",
    "        for j in range(huecategories):\n",
    "            percentage = '{:.1f}%'.format(100 * a[(j*nooffeature + i)]/total)\n",
    "            x = patch[(j*nooffeature + i)].get_x() + patch[(j*nooffeature + i)].get_width() / 2 - 0.15\n",
    "            y = patch[(j*nooffeature + i)].get_y() + patch[(j*nooffeature + i)].get_height()\n",
    "            ax.annotate(percentage, (x, y), size = 12, ha='center', va='bottom')\n",
    "    plt.show()"
   ]
  },
  {
   "cell_type": "code",
   "execution_count": 25,
   "metadata": {
    "execution": {
     "iopub.execute_input": "2021-05-18T19:26:31.993546Z",
     "iopub.status.busy": "2021-05-18T19:26:31.966680Z",
     "iopub.status.idle": "2021-05-18T19:26:32.127628Z",
     "shell.execute_reply": "2021-05-18T19:26:32.128005Z"
    },
    "papermill": {
     "duration": 0.218389,
     "end_time": "2021-05-18T19:26:32.128164",
     "exception": false,
     "start_time": "2021-05-18T19:26:31.909775",
     "status": "completed"
    },
    "tags": []
   },
   "outputs": [
    {
     "data": {
      "image/png": "[encoded data removed]",
      "text/plain": [
       "<Figure size 1058.4x595.44 with 1 Axes>"
      ]
     },
     "metadata": {
      "needs_background": "light"
     },
     "output_type": "display_data"
    }
   ],
   "source": [
    "# Visualization of placement status of different candidate based on gender\n",
    "plt.figure(figsize = (14.7, 8.27))\n",
    "ax = sb.countplot(data = df, x = 'gender', hue = 'status')\n",
    "plt.xlabel('Gender')\n",
    "plt.ylabel('Count')\n",
    "plt.title('Placement Status of Different Candidate');\n",
    "withhue(ax, 'gender', 2, 2)"
   ]
  },
  {
   "cell_type": "markdown",
   "metadata": {
    "papermill": {
     "duration": 0.049927,
     "end_time": "2021-05-18T19:26:32.228833",
     "exception": false,
     "start_time": "2021-05-18T19:26:32.178906",
     "status": "completed"
    },
    "tags": []
   },
   "source": [
    "- Here we can see that more number of Male candidates are placed than that of the female candidates. Also, more number of Male candidates are not placed as compared to female candidate."
   ]
  },
  {
   "cell_type": "markdown",
   "metadata": {
    "papermill": {
     "duration": 0.049399,
     "end_time": "2021-05-18T19:26:32.331011",
     "exception": false,
     "start_time": "2021-05-18T19:26:32.281612",
     "status": "completed"
    },
    "tags": []
   },
   "source": [
    "#### Work Experience of Different Candidate:"
   ]
  },
  {
   "cell_type": "code",
   "execution_count": 26,
   "metadata": {
    "execution": {
     "iopub.execute_input": "2021-05-18T19:26:32.474118Z",
     "iopub.status.busy": "2021-05-18T19:26:32.457860Z",
     "iopub.status.idle": "2021-05-18T19:26:32.586690Z",
     "shell.execute_reply": "2021-05-18T19:26:32.586214Z"
    },
    "papermill": {
     "duration": 0.206086,
     "end_time": "2021-05-18T19:26:32.586822",
     "exception": false,
     "start_time": "2021-05-18T19:26:32.380736",
     "status": "completed"
    },
    "tags": []
   },
   "outputs": [
    {
     "data": {
      "image/png": "[encoded data removed]",
      "text/plain": [
       "<Figure size 1058.4x595.44 with 1 Axes>"
      ]
     },
     "metadata": {
      "needs_background": "light"
     },
     "output_type": "display_data"
    }
   ],
   "source": [
    "# Visualization of Work experience of different candidate\n",
    "plt.figure(figsize = (14.7, 8.27))\n",
    "ax = sb.countplot(data = df, x = 'gender', hue = 'workex')\n",
    "plt.xlabel('Gender')\n",
    "plt.ylabel('Count')\n",
    "plt.title('Work Experience of Different Candidate');\n",
    "withhue(ax, 'gender', 2, 2)"
   ]
  },
  {
   "cell_type": "markdown",
   "metadata": {
    "papermill": {
     "duration": 0.050557,
     "end_time": "2021-05-18T19:26:32.688072",
     "exception": false,
     "start_time": "2021-05-18T19:26:32.637515",
     "status": "completed"
    },
    "tags": []
   },
   "source": [
    "- Proportion of No workexperience is more for both male and female candidate."
   ]
  },
  {
   "cell_type": "markdown",
   "metadata": {
    "papermill": {
     "duration": 0.050512,
     "end_time": "2021-05-18T19:26:32.789211",
     "exception": false,
     "start_time": "2021-05-18T19:26:32.738699",
     "status": "completed"
    },
    "tags": []
   },
   "source": [
    "#### MBA Specialisation of Different Candidate:"
   ]
  },
  {
   "cell_type": "code",
   "execution_count": 27,
   "metadata": {
    "execution": {
     "iopub.execute_input": "2021-05-18T19:26:32.898830Z",
     "iopub.status.busy": "2021-05-18T19:26:32.898237Z",
     "iopub.status.idle": "2021-05-18T19:26:33.061587Z",
     "shell.execute_reply": "2021-05-18T19:26:33.062054Z"
    },
    "papermill": {
     "duration": 0.221865,
     "end_time": "2021-05-18T19:26:33.062212",
     "exception": false,
     "start_time": "2021-05-18T19:26:32.840347",
     "status": "completed"
    },
    "tags": []
   },
   "outputs": [
    {
     "data": {
      "image/png": "[encoded data removed]",
      "text/plain": [
       "<Figure size 1058.4x595.44 with 1 Axes>"
      ]
     },
     "metadata": {
      "needs_background": "light"
     },
     "output_type": "display_data"
    }
   ],
   "source": [
    "# Visualisation of MBA specialisation of different candidate:\n",
    "plt.figure(figsize = (14.7, 8.27))\n",
    "ax = sb.countplot(data = df, x = 'gender', hue = 'specialisation')\n",
    "plt.xlabel('Gender')\n",
    "plt.ylabel('Count')\n",
    "plt.title('MBA Specialisation of different Candidate');\n",
    "withhue(ax, 'gender', 2, 2)"
   ]
  },
  {
   "cell_type": "markdown",
   "metadata": {
    "papermill": {
     "duration": 0.052851,
     "end_time": "2021-05-18T19:26:33.166505",
     "exception": false,
     "start_time": "2021-05-18T19:26:33.113654",
     "status": "completed"
    },
    "tags": []
   },
   "source": [
    "- Male candidate have more number of Mkt&Fn specialisation where as Female candidates have more number of Mkt&HR specialisation."
   ]
  },
  {
   "cell_type": "markdown",
   "metadata": {
    "papermill": {
     "duration": 0.051644,
     "end_time": "2021-05-18T19:26:33.270379",
     "exception": false,
     "start_time": "2021-05-18T19:26:33.218735",
     "status": "completed"
    },
    "tags": []
   },
   "source": [
    "#### Salary of Different Candidate with WorkExperience:"
   ]
  },
  {
   "cell_type": "code",
   "execution_count": 28,
   "metadata": {
    "execution": {
     "iopub.execute_input": "2021-05-18T19:26:33.376202Z",
     "iopub.status.busy": "2021-05-18T19:26:33.375675Z",
     "iopub.status.idle": "2021-05-18T19:26:33.525906Z",
     "shell.execute_reply": "2021-05-18T19:26:33.525493Z"
    },
    "papermill": {
     "duration": 0.20421,
     "end_time": "2021-05-18T19:26:33.526040",
     "exception": false,
     "start_time": "2021-05-18T19:26:33.321830",
     "status": "completed"
    },
    "tags": []
   },
   "outputs": [
    {
     "data": {
      "image/png": "[encoded data removed]",
      "text/plain": [
       "<Figure size 1058.4x595.44 with 1 Axes>"
      ]
     },
     "metadata": {
      "needs_background": "light"
     },
     "output_type": "display_data"
    }
   ],
   "source": [
    "# Visualisation of Salary of Different Candidate with WorkExperience\n",
    "plt.figure(figsize = (14.7, 8.27))\n",
    "sb.violinplot(data = df, x = 'workex', y = 'salary', color = viscolor, inner = 'quartile')\n",
    "plt.xlabel('Work Experience')\n",
    "plt.ylabel('Salary')\n",
    "plt.title('Salary of Candidate by Work Experience');"
   ]
  },
  {
   "cell_type": "markdown",
   "metadata": {
    "papermill": {
     "duration": 0.053404,
     "end_time": "2021-05-18T19:26:33.633608",
     "exception": false,
     "start_time": "2021-05-18T19:26:33.580204",
     "status": "completed"
    },
    "tags": []
   },
   "source": [
    "- Candidate with work experience is getting more salary than that of the candidate having no experience."
   ]
  },
  {
   "cell_type": "markdown",
   "metadata": {
    "papermill": {
     "duration": 0.052688,
     "end_time": "2021-05-18T19:26:33.739848",
     "exception": false,
     "start_time": "2021-05-18T19:26:33.687160",
     "status": "completed"
    },
    "tags": []
   },
   "source": [
    "#### HSC Percentage of different HSC Board:"
   ]
  },
  {
   "cell_type": "code",
   "execution_count": 29,
   "metadata": {
    "execution": {
     "iopub.execute_input": "2021-05-18T19:26:33.858733Z",
     "iopub.status.busy": "2021-05-18T19:26:33.854350Z",
     "iopub.status.idle": "2021-05-18T19:26:33.988673Z",
     "shell.execute_reply": "2021-05-18T19:26:33.989060Z"
    },
    "papermill": {
     "duration": 0.196249,
     "end_time": "2021-05-18T19:26:33.989232",
     "exception": false,
     "start_time": "2021-05-18T19:26:33.792983",
     "status": "completed"
    },
    "tags": []
   },
   "outputs": [
    {
     "data": {
      "image/png": "[encoded data removed]",
      "text/plain": [
       "<Figure size 1058.4x595.44 with 1 Axes>"
      ]
     },
     "metadata": {
      "needs_background": "light"
     },
     "output_type": "display_data"
    }
   ],
   "source": [
    "# Visualization of HSC percentage distribution of different HSC Board\n",
    "plt.figure(figsize = (14.7, 8.27))\n",
    "sb.boxplot(data = df, x = 'hsc_b', y = 'hsc_p', color = viscolor)\n",
    "plt.xlabel('HSC Board')\n",
    "plt.ylabel('HSC Percetage')\n",
    "plt.title('HSC Percentage of Different HSC Board');"
   ]
  },
  {
   "cell_type": "markdown",
   "metadata": {
    "papermill": {
     "duration": 0.053832,
     "end_time": "2021-05-18T19:26:34.097605",
     "exception": false,
     "start_time": "2021-05-18T19:26:34.043773",
     "status": "completed"
    },
    "tags": []
   },
   "source": [
    "- Central board candidate has better median score than that of Other boards. But we can see that Other board candiate has higher score range than that of the central board."
   ]
  },
  {
   "cell_type": "markdown",
   "metadata": {
    "papermill": {
     "duration": 0.054138,
     "end_time": "2021-05-18T19:26:34.206549",
     "exception": false,
     "start_time": "2021-05-18T19:26:34.152411",
     "status": "completed"
    },
    "tags": []
   },
   "source": [
    "### Multivariate Exploration:"
   ]
  },
  {
   "cell_type": "markdown",
   "metadata": {
    "papermill": {
     "duration": 0.053829,
     "end_time": "2021-05-18T19:26:34.314486",
     "exception": false,
     "start_time": "2021-05-18T19:26:34.260657",
     "status": "completed"
    },
    "tags": []
   },
   "source": [
    "#### Placement status of different candidate by MBA and Degree:"
   ]
  },
  {
   "cell_type": "code",
   "execution_count": 30,
   "metadata": {
    "execution": {
     "iopub.execute_input": "2021-05-18T19:26:34.431996Z",
     "iopub.status.busy": "2021-05-18T19:26:34.431420Z",
     "iopub.status.idle": "2021-05-18T19:26:35.402635Z",
     "shell.execute_reply": "2021-05-18T19:26:35.401864Z"
    },
    "papermill": {
     "duration": 1.034115,
     "end_time": "2021-05-18T19:26:35.402831",
     "exception": false,
     "start_time": "2021-05-18T19:26:34.368716",
     "status": "completed"
    },
    "tags": []
   },
   "outputs": [
    {
     "data": {
      "image/png": "[encoded data removed]",
      "text/plain": [
       "<Figure size 797.125x1080 with 6 Axes>"
      ]
     },
     "metadata": {
      "needs_background": "light"
     },
     "output_type": "display_data"
    }
   ],
   "source": [
    "g = sb.catplot(kind = 'count', data = df, x = 'gender',\n",
    "               hue = 'specialisation', col = 'status', row = 'degree_t');\n",
    "g.set_axis_labels('Gender', 'Count');"
   ]
  },
  {
   "cell_type": "markdown",
   "metadata": {
    "papermill": {
     "duration": 0.05652,
     "end_time": "2021-05-18T19:26:35.527231",
     "exception": false,
     "start_time": "2021-05-18T19:26:35.470711",
     "status": "completed"
    },
    "tags": []
   },
   "source": [
    "- Candidates having Comm&Mgmt degree and Mkt&Fin specialisation are placed in more number than that of Mkt&HR specialisation."
   ]
  },
  {
   "cell_type": "markdown",
   "metadata": {
    "papermill": {
     "duration": 0.054549,
     "end_time": "2021-05-18T19:26:35.636565",
     "exception": false,
     "start_time": "2021-05-18T19:26:35.582016",
     "status": "completed"
    },
    "tags": []
   },
   "source": [
    "#### Placement Status of Different Degree holders with Specialisation:"
   ]
  },
  {
   "cell_type": "code",
   "execution_count": 31,
   "metadata": {
    "execution": {
     "iopub.execute_input": "2021-05-18T19:26:35.770606Z",
     "iopub.status.busy": "2021-05-18T19:26:35.769727Z",
     "iopub.status.idle": "2021-05-18T19:26:36.407389Z",
     "shell.execute_reply": "2021-05-18T19:26:36.407786Z"
    },
    "papermill": {
     "duration": 0.715644,
     "end_time": "2021-05-18T19:26:36.407959",
     "exception": false,
     "start_time": "2021-05-18T19:26:35.692315",
     "status": "completed"
    },
    "tags": []
   },
   "outputs": [
    {
     "data": {
      "image/png": "[encoded data removed]",
      "text/plain": [
       "<Figure size 720x720 with 4 Axes>"
      ]
     },
     "metadata": {
      "needs_background": "light"
     },
     "output_type": "display_data"
    }
   ],
   "source": [
    "# Visualisation of Placement status of different degree holders\n",
    "g = sb.catplot(kind = 'violin', data = df, x = 'degree_t', y = 'degree_p' , col = 'status',\n",
    "              inner = 'quartile', color = viscolor, row = 'specialisation');\n",
    "g.set_axis_labels('Degree', 'Percentage');"
   ]
  },
  {
   "cell_type": "markdown",
   "metadata": {
    "papermill": {
     "duration": 0.057621,
     "end_time": "2021-05-18T19:26:36.523422",
     "exception": false,
     "start_time": "2021-05-18T19:26:36.465801",
     "status": "completed"
    },
    "tags": []
   },
   "source": [
    "- Having higher percentage gives more chance of placement."
   ]
  },
  {
   "cell_type": "markdown",
   "metadata": {
    "papermill": {
     "duration": 0.057377,
     "end_time": "2021-05-18T19:26:36.640074",
     "exception": false,
     "start_time": "2021-05-18T19:26:36.582697",
     "status": "completed"
    },
    "tags": []
   },
   "source": [
    "#### Salary of Different Candidates with Degree and Specialisation:"
   ]
  },
  {
   "cell_type": "code",
   "execution_count": 32,
   "metadata": {
    "execution": {
     "iopub.execute_input": "2021-05-18T19:26:36.760859Z",
     "iopub.status.busy": "2021-05-18T19:26:36.760316Z",
     "iopub.status.idle": "2021-05-18T19:26:37.606046Z",
     "shell.execute_reply": "2021-05-18T19:26:37.605089Z"
    },
    "papermill": {
     "duration": 0.908801,
     "end_time": "2021-05-18T19:26:37.606192",
     "exception": false,
     "start_time": "2021-05-18T19:26:36.697391",
     "status": "completed"
    },
    "tags": []
   },
   "outputs": [
    {
     "data": {
      "image/png": "[encoded data removed]",
      "text/plain": [
       "<Figure size 720x720 with 4 Axes>"
      ]
     },
     "metadata": {
      "needs_background": "light"
     },
     "output_type": "display_data"
    }
   ],
   "source": [
    "g = sb.catplot(kind = 'swarm', data = df.query('status == \"Placed\"'), x = 'degree_t', y = 'salary',\n",
    "              color = viscolor, row = 'specialisation', col = 'workex');\n",
    "g.set_axis_labels('Degree', 'Salary');"
   ]
  },
  {
   "cell_type": "markdown",
   "metadata": {
    "papermill": {
     "duration": 0.058636,
     "end_time": "2021-05-18T19:26:37.723814",
     "exception": false,
     "start_time": "2021-05-18T19:26:37.665178",
     "status": "completed"
    },
    "tags": []
   },
   "source": [
    "- Here we can see that salary of different degree holders having Mkt&Fin specialisation is getting more salary than that of the Mkt&HR."
   ]
  },
  {
   "cell_type": "markdown",
   "metadata": {
    "papermill": {
     "duration": 0.060972,
     "end_time": "2021-05-18T19:26:37.843361",
     "exception": false,
     "start_time": "2021-05-18T19:26:37.782389",
     "status": "completed"
    },
    "tags": []
   },
   "source": [
    "#### Job offers by Educational Qualification:"
   ]
  },
  {
   "cell_type": "code",
   "execution_count": 33,
   "metadata": {
    "execution": {
     "iopub.execute_input": "2021-05-18T19:26:37.999969Z",
     "iopub.status.busy": "2021-05-18T19:26:37.985325Z",
     "iopub.status.idle": "2021-05-18T19:26:38.959122Z",
     "shell.execute_reply": "2021-05-18T19:26:38.958598Z"
    },
    "papermill": {
     "duration": 1.055761,
     "end_time": "2021-05-18T19:26:38.959252",
     "exception": false,
     "start_time": "2021-05-18T19:26:37.903491",
     "status": "completed"
    },
    "tags": []
   },
   "outputs": [
    {
     "data": {
      "image/png": "[encoded data removed]",
      "text/plain": [
       "<Figure size 1169.5x720 with 6 Axes>"
      ]
     },
     "metadata": {
      "needs_background": "light"
     },
     "output_type": "display_data"
    }
   ],
   "source": [
    "g = sb.catplot(kind = 'count', data = df, x = 'hsc_s',\n",
    "               hue = 'status', col = 'degree_t', row = 'specialisation');\n",
    "g.set_axis_labels('Qualification', 'Count');"
   ]
  },
  {
   "cell_type": "markdown",
   "metadata": {
    "papermill": {
     "duration": 0.060903,
     "end_time": "2021-05-18T19:26:39.080715",
     "exception": false,
     "start_time": "2021-05-18T19:26:39.019812",
     "status": "completed"
    },
    "tags": []
   },
   "source": [
    "- We can see every sort of degree holders has received jobs. But Those who have Commerce background and has a degree in Comm&Mgmt and MBA Specialisation in Mkt&Fn, Mkt&HR are more likely to be placed followed by Science background with Sci&Tech degree with Mkt&Fn, Mkt&HR specialisation."
   ]
  },
  {
   "cell_type": "markdown",
   "metadata": {
    "papermill": {
     "duration": 0.060798,
     "end_time": "2021-05-18T19:26:39.201918",
     "exception": false,
     "start_time": "2021-05-18T19:26:39.141120",
     "status": "completed"
    },
    "tags": []
   },
   "source": [
    "#### Insights:\n",
    "- By analyzing the data we saw that more number of Commerece background candidate are placed followed by Science background candidates.\n",
    "- Mkt&Fn MBA specialization candidates are placed in more numbers followed by Mkt&HR specialisation.\n",
    "- Work experience is your bonus point. Candidate having work experience are more likely to get a good salary package.\n",
    "- Scoring good percentage/score throughout the career may help candidate secure a job."
   ]
  },
  {
   "cell_type": "markdown",
   "metadata": {
    "papermill": {
     "duration": 0.060104,
     "end_time": "2021-05-18T19:26:39.322269",
     "exception": false,
     "start_time": "2021-05-18T19:26:39.262165",
     "status": "completed"
    },
    "tags": []
   },
   "source": [
    "### Classification of Placement Status & Prediction of Salary using Different Attribute:\n",
    "As we have gained some insights about the attributes helping a candidate secure a job and a good package. So, first using these attribute we will classify if a candidate is going to secure a job or not; then we are going to follow Regression mechanism to predict the package that a candidate might get."
   ]
  },
  {
   "cell_type": "markdown",
   "metadata": {
    "papermill": {
     "duration": 0.060486,
     "end_time": "2021-05-18T19:26:39.442884",
     "exception": false,
     "start_time": "2021-05-18T19:26:39.382398",
     "status": "completed"
    },
    "tags": []
   },
   "source": [
    "#### Label Encoding & Feature Scaling:\n",
    "- There are different features that needed to be scaled before used in a model. So do different categorical variables which need to be encoded.\n",
    "###### Reference:\n",
    "- https://scikit-learn.org/stable/modules/generated/sklearn.preprocessing.StandardScaler.html\n",
    "- https://scikit-learn.org/stable/modules/generated/sklearn.preprocessing.LabelEncoder.html"
   ]
  },
  {
   "cell_type": "code",
   "execution_count": 34,
   "metadata": {
    "execution": {
     "iopub.execute_input": "2021-05-18T19:26:39.569997Z",
     "iopub.status.busy": "2021-05-18T19:26:39.569220Z",
     "iopub.status.idle": "2021-05-18T19:26:39.703038Z",
     "shell.execute_reply": "2021-05-18T19:26:39.702564Z"
    },
    "papermill": {
     "duration": 0.199458,
     "end_time": "2021-05-18T19:26:39.703175",
     "exception": false,
     "start_time": "2021-05-18T19:26:39.503717",
     "status": "completed"
    },
    "tags": []
   },
   "outputs": [],
   "source": [
    "# Label encoding\n",
    "le = LabelEncoder()\n",
    "df[['gender','ssc_b','hsc_b','hsc_s','degree_t','workex','specialisation','status']] = df[['gender','ssc_b','hsc_b','hsc_s','degree_t','workex','specialisation','status']].apply(le.fit_transform)"
   ]
  },
  {
   "cell_type": "code",
   "execution_count": 35,
   "metadata": {
    "execution": {
     "iopub.execute_input": "2021-05-18T19:26:39.828607Z",
     "iopub.status.busy": "2021-05-18T19:26:39.827998Z",
     "iopub.status.idle": "2021-05-18T19:26:39.847113Z",
     "shell.execute_reply": "2021-05-18T19:26:39.847573Z"
    },
    "papermill": {
     "duration": 0.084966,
     "end_time": "2021-05-18T19:26:39.847732",
     "exception": false,
     "start_time": "2021-05-18T19:26:39.762766",
     "status": "completed"
    },
    "tags": []
   },
   "outputs": [
    {
     "data": {
      "text/html": [
       "<div>\n",
       "<style scoped>\n",
       "    .dataframe tbody tr th:only-of-type {\n",
       "        vertical-align: middle;\n",
       "    }\n",
       "\n",
       "    .dataframe tbody tr th {\n",
       "        vertical-align: top;\n",
       "    }\n",
       "\n",
       "    .dataframe thead th {\n",
       "        text-align: right;\n",
       "    }\n",
       "</style>\n",
       "<table border=\"1\" class=\"dataframe\">\n",
       "  <thead>\n",
       "    <tr style=\"text-align: right;\">\n",
       "      <th></th>\n",
       "      <th>sl_no</th>\n",
       "      <th>gender</th>\n",
       "      <th>ssc_p</th>\n",
       "      <th>ssc_b</th>\n",
       "      <th>hsc_p</th>\n",
       "      <th>hsc_b</th>\n",
       "      <th>hsc_s</th>\n",
       "      <th>degree_p</th>\n",
       "      <th>degree_t</th>\n",
       "      <th>workex</th>\n",
       "      <th>etest_p</th>\n",
       "      <th>specialisation</th>\n",
       "      <th>mba_p</th>\n",
       "      <th>status</th>\n",
       "      <th>salary</th>\n",
       "      <th>ssc_p_catg</th>\n",
       "      <th>hsc_p_catg</th>\n",
       "      <th>mba_p_catg</th>\n",
       "      <th>degree_p_catg</th>\n",
       "      <th>etest_p_catg</th>\n",
       "    </tr>\n",
       "  </thead>\n",
       "  <tbody>\n",
       "    <tr>\n",
       "      <th>0</th>\n",
       "      <td>1</td>\n",
       "      <td>1</td>\n",
       "      <td>67.00</td>\n",
       "      <td>1</td>\n",
       "      <td>91.00</td>\n",
       "      <td>1</td>\n",
       "      <td>1</td>\n",
       "      <td>58.00</td>\n",
       "      <td>2</td>\n",
       "      <td>0</td>\n",
       "      <td>55.00</td>\n",
       "      <td>1</td>\n",
       "      <td>58.80</td>\n",
       "      <td>1</td>\n",
       "      <td>270000.0</td>\n",
       "      <td>60% - 85%</td>\n",
       "      <td>85% +</td>\n",
       "      <td>&lt; 60%</td>\n",
       "      <td>&lt; 60%</td>\n",
       "      <td>&lt; 60%</td>\n",
       "    </tr>\n",
       "    <tr>\n",
       "      <th>1</th>\n",
       "      <td>2</td>\n",
       "      <td>1</td>\n",
       "      <td>79.33</td>\n",
       "      <td>0</td>\n",
       "      <td>78.33</td>\n",
       "      <td>1</td>\n",
       "      <td>2</td>\n",
       "      <td>77.48</td>\n",
       "      <td>2</td>\n",
       "      <td>1</td>\n",
       "      <td>86.50</td>\n",
       "      <td>0</td>\n",
       "      <td>66.28</td>\n",
       "      <td>1</td>\n",
       "      <td>200000.0</td>\n",
       "      <td>60% - 85%</td>\n",
       "      <td>60% - 85%</td>\n",
       "      <td>60% - 85%</td>\n",
       "      <td>60% - 85%</td>\n",
       "      <td>85% +</td>\n",
       "    </tr>\n",
       "    <tr>\n",
       "      <th>2</th>\n",
       "      <td>3</td>\n",
       "      <td>1</td>\n",
       "      <td>65.00</td>\n",
       "      <td>0</td>\n",
       "      <td>68.00</td>\n",
       "      <td>0</td>\n",
       "      <td>0</td>\n",
       "      <td>64.00</td>\n",
       "      <td>0</td>\n",
       "      <td>0</td>\n",
       "      <td>75.00</td>\n",
       "      <td>0</td>\n",
       "      <td>57.80</td>\n",
       "      <td>1</td>\n",
       "      <td>250000.0</td>\n",
       "      <td>60% - 85%</td>\n",
       "      <td>60% - 85%</td>\n",
       "      <td>&lt; 60%</td>\n",
       "      <td>60% - 85%</td>\n",
       "      <td>60% - 85%</td>\n",
       "    </tr>\n",
       "    <tr>\n",
       "      <th>3</th>\n",
       "      <td>4</td>\n",
       "      <td>1</td>\n",
       "      <td>56.00</td>\n",
       "      <td>0</td>\n",
       "      <td>52.00</td>\n",
       "      <td>0</td>\n",
       "      <td>2</td>\n",
       "      <td>52.00</td>\n",
       "      <td>2</td>\n",
       "      <td>0</td>\n",
       "      <td>66.00</td>\n",
       "      <td>1</td>\n",
       "      <td>59.43</td>\n",
       "      <td>0</td>\n",
       "      <td>0.0</td>\n",
       "      <td>&lt; 60%</td>\n",
       "      <td>&lt; 60%</td>\n",
       "      <td>&lt; 60%</td>\n",
       "      <td>&lt; 60%</td>\n",
       "      <td>60% - 85%</td>\n",
       "    </tr>\n",
       "    <tr>\n",
       "      <th>4</th>\n",
       "      <td>5</td>\n",
       "      <td>1</td>\n",
       "      <td>85.80</td>\n",
       "      <td>0</td>\n",
       "      <td>73.60</td>\n",
       "      <td>0</td>\n",
       "      <td>1</td>\n",
       "      <td>73.30</td>\n",
       "      <td>0</td>\n",
       "      <td>0</td>\n",
       "      <td>96.80</td>\n",
       "      <td>0</td>\n",
       "      <td>55.50</td>\n",
       "      <td>1</td>\n",
       "      <td>425000.0</td>\n",
       "      <td>85% +</td>\n",
       "      <td>60% - 85%</td>\n",
       "      <td>&lt; 60%</td>\n",
       "      <td>60% - 85%</td>\n",
       "      <td>85% +</td>\n",
       "    </tr>\n",
       "    <tr>\n",
       "      <th>5</th>\n",
       "      <td>6</td>\n",
       "      <td>1</td>\n",
       "      <td>55.00</td>\n",
       "      <td>1</td>\n",
       "      <td>49.80</td>\n",
       "      <td>1</td>\n",
       "      <td>2</td>\n",
       "      <td>67.25</td>\n",
       "      <td>2</td>\n",
       "      <td>1</td>\n",
       "      <td>55.00</td>\n",
       "      <td>0</td>\n",
       "      <td>51.58</td>\n",
       "      <td>0</td>\n",
       "      <td>0.0</td>\n",
       "      <td>&lt; 60%</td>\n",
       "      <td>&lt; 60%</td>\n",
       "      <td>&lt; 60%</td>\n",
       "      <td>60% - 85%</td>\n",
       "      <td>&lt; 60%</td>\n",
       "    </tr>\n",
       "    <tr>\n",
       "      <th>6</th>\n",
       "      <td>7</td>\n",
       "      <td>0</td>\n",
       "      <td>46.00</td>\n",
       "      <td>1</td>\n",
       "      <td>49.20</td>\n",
       "      <td>1</td>\n",
       "      <td>1</td>\n",
       "      <td>79.00</td>\n",
       "      <td>0</td>\n",
       "      <td>0</td>\n",
       "      <td>74.28</td>\n",
       "      <td>0</td>\n",
       "      <td>53.29</td>\n",
       "      <td>0</td>\n",
       "      <td>0.0</td>\n",
       "      <td>&lt; 60%</td>\n",
       "      <td>&lt; 60%</td>\n",
       "      <td>&lt; 60%</td>\n",
       "      <td>60% - 85%</td>\n",
       "      <td>60% - 85%</td>\n",
       "    </tr>\n",
       "    <tr>\n",
       "      <th>7</th>\n",
       "      <td>8</td>\n",
       "      <td>1</td>\n",
       "      <td>82.00</td>\n",
       "      <td>0</td>\n",
       "      <td>64.00</td>\n",
       "      <td>0</td>\n",
       "      <td>2</td>\n",
       "      <td>66.00</td>\n",
       "      <td>2</td>\n",
       "      <td>1</td>\n",
       "      <td>67.00</td>\n",
       "      <td>0</td>\n",
       "      <td>62.14</td>\n",
       "      <td>1</td>\n",
       "      <td>252000.0</td>\n",
       "      <td>60% - 85%</td>\n",
       "      <td>60% - 85%</td>\n",
       "      <td>60% - 85%</td>\n",
       "      <td>60% - 85%</td>\n",
       "      <td>60% - 85%</td>\n",
       "    </tr>\n",
       "    <tr>\n",
       "      <th>8</th>\n",
       "      <td>9</td>\n",
       "      <td>1</td>\n",
       "      <td>73.00</td>\n",
       "      <td>0</td>\n",
       "      <td>79.00</td>\n",
       "      <td>0</td>\n",
       "      <td>1</td>\n",
       "      <td>72.00</td>\n",
       "      <td>0</td>\n",
       "      <td>0</td>\n",
       "      <td>91.34</td>\n",
       "      <td>0</td>\n",
       "      <td>61.29</td>\n",
       "      <td>1</td>\n",
       "      <td>231000.0</td>\n",
       "      <td>60% - 85%</td>\n",
       "      <td>60% - 85%</td>\n",
       "      <td>60% - 85%</td>\n",
       "      <td>60% - 85%</td>\n",
       "      <td>85% +</td>\n",
       "    </tr>\n",
       "    <tr>\n",
       "      <th>9</th>\n",
       "      <td>10</td>\n",
       "      <td>1</td>\n",
       "      <td>58.00</td>\n",
       "      <td>0</td>\n",
       "      <td>70.00</td>\n",
       "      <td>0</td>\n",
       "      <td>1</td>\n",
       "      <td>61.00</td>\n",
       "      <td>0</td>\n",
       "      <td>0</td>\n",
       "      <td>54.00</td>\n",
       "      <td>0</td>\n",
       "      <td>52.21</td>\n",
       "      <td>0</td>\n",
       "      <td>0.0</td>\n",
       "      <td>&lt; 60%</td>\n",
       "      <td>60% - 85%</td>\n",
       "      <td>&lt; 60%</td>\n",
       "      <td>60% - 85%</td>\n",
       "      <td>&lt; 60%</td>\n",
       "    </tr>\n",
       "  </tbody>\n",
       "</table>\n",
       "</div>"
      ],
      "text/plain": [
       "   sl_no  gender  ssc_p  ssc_b  hsc_p  hsc_b  hsc_s  degree_p  degree_t  \\\n",
       "0      1       1  67.00      1  91.00      1      1     58.00         2   \n",
       "1      2       1  79.33      0  78.33      1      2     77.48         2   \n",
       "2      3       1  65.00      0  68.00      0      0     64.00         0   \n",
       "3      4       1  56.00      0  52.00      0      2     52.00         2   \n",
       "4      5       1  85.80      0  73.60      0      1     73.30         0   \n",
       "5      6       1  55.00      1  49.80      1      2     67.25         2   \n",
       "6      7       0  46.00      1  49.20      1      1     79.00         0   \n",
       "7      8       1  82.00      0  64.00      0      2     66.00         2   \n",
       "8      9       1  73.00      0  79.00      0      1     72.00         0   \n",
       "9     10       1  58.00      0  70.00      0      1     61.00         0   \n",
       "\n",
       "   workex  etest_p  specialisation  mba_p  status    salary ssc_p_catg  \\\n",
       "0       0    55.00               1  58.80       1  270000.0  60% - 85%   \n",
       "1       1    86.50               0  66.28       1  200000.0  60% - 85%   \n",
       "2       0    75.00               0  57.80       1  250000.0  60% - 85%   \n",
       "3       0    66.00               1  59.43       0       0.0      < 60%   \n",
       "4       0    96.80               0  55.50       1  425000.0      85% +   \n",
       "5       1    55.00               0  51.58       0       0.0      < 60%   \n",
       "6       0    74.28               0  53.29       0       0.0      < 60%   \n",
       "7       1    67.00               0  62.14       1  252000.0  60% - 85%   \n",
       "8       0    91.34               0  61.29       1  231000.0  60% - 85%   \n",
       "9       0    54.00               0  52.21       0       0.0      < 60%   \n",
       "\n",
       "  hsc_p_catg mba_p_catg degree_p_catg etest_p_catg  \n",
       "0      85% +      < 60%         < 60%        < 60%  \n",
       "1  60% - 85%  60% - 85%     60% - 85%        85% +  \n",
       "2  60% - 85%      < 60%     60% - 85%    60% - 85%  \n",
       "3      < 60%      < 60%         < 60%    60% - 85%  \n",
       "4  60% - 85%      < 60%     60% - 85%        85% +  \n",
       "5      < 60%      < 60%     60% - 85%        < 60%  \n",
       "6      < 60%      < 60%     60% - 85%    60% - 85%  \n",
       "7  60% - 85%  60% - 85%     60% - 85%    60% - 85%  \n",
       "8  60% - 85%  60% - 85%     60% - 85%        85% +  \n",
       "9  60% - 85%      < 60%     60% - 85%        < 60%  "
      ]
     },
     "execution_count": 35,
     "metadata": {},
     "output_type": "execute_result"
    }
   ],
   "source": [
    "# Checking the Encoded values\n",
    "df.head(10)"
   ]
  },
  {
   "cell_type": "code",
   "execution_count": 36,
   "metadata": {
    "execution": {
     "iopub.execute_input": "2021-05-18T19:26:39.974680Z",
     "iopub.status.busy": "2021-05-18T19:26:39.974142Z",
     "iopub.status.idle": "2021-05-18T19:26:39.984454Z",
     "shell.execute_reply": "2021-05-18T19:26:39.985005Z"
    },
    "papermill": {
     "duration": 0.075318,
     "end_time": "2021-05-18T19:26:39.985179",
     "exception": false,
     "start_time": "2021-05-18T19:26:39.909861",
     "status": "completed"
    },
    "tags": []
   },
   "outputs": [],
   "source": [
    "# Feature Scaling\n",
    "scaler = StandardScaler()\n",
    "df[['ssc_p','hsc_p','degree_p','etest_p','mba_p','salary']] = scaler.fit_transform(df[['ssc_p','hsc_p','degree_p','etest_p','mba_p','salary']])"
   ]
  },
  {
   "cell_type": "code",
   "execution_count": 37,
   "metadata": {
    "execution": {
     "iopub.execute_input": "2021-05-18T19:26:40.110004Z",
     "iopub.status.busy": "2021-05-18T19:26:40.109429Z",
     "iopub.status.idle": "2021-05-18T19:26:40.128952Z",
     "shell.execute_reply": "2021-05-18T19:26:40.128521Z"
    },
    "papermill": {
     "duration": 0.08282,
     "end_time": "2021-05-18T19:26:40.129079",
     "exception": false,
     "start_time": "2021-05-18T19:26:40.046259",
     "status": "completed"
    },
    "tags": []
   },
   "outputs": [
    {
     "data": {
      "text/html": [
       "<div>\n",
       "<style scoped>\n",
       "    .dataframe tbody tr th:only-of-type {\n",
       "        vertical-align: middle;\n",
       "    }\n",
       "\n",
       "    .dataframe tbody tr th {\n",
       "        vertical-align: top;\n",
       "    }\n",
       "\n",
       "    .dataframe thead th {\n",
       "        text-align: right;\n",
       "    }\n",
       "</style>\n",
       "<table border=\"1\" class=\"dataframe\">\n",
       "  <thead>\n",
       "    <tr style=\"text-align: right;\">\n",
       "      <th></th>\n",
       "      <th>sl_no</th>\n",
       "      <th>gender</th>\n",
       "      <th>ssc_p</th>\n",
       "      <th>ssc_b</th>\n",
       "      <th>hsc_p</th>\n",
       "      <th>hsc_b</th>\n",
       "      <th>hsc_s</th>\n",
       "      <th>degree_p</th>\n",
       "      <th>degree_t</th>\n",
       "      <th>workex</th>\n",
       "      <th>etest_p</th>\n",
       "      <th>specialisation</th>\n",
       "      <th>mba_p</th>\n",
       "      <th>status</th>\n",
       "      <th>salary</th>\n",
       "      <th>ssc_p_catg</th>\n",
       "      <th>hsc_p_catg</th>\n",
       "      <th>mba_p_catg</th>\n",
       "      <th>degree_p_catg</th>\n",
       "      <th>etest_p_catg</th>\n",
       "    </tr>\n",
       "  </thead>\n",
       "  <tbody>\n",
       "    <tr>\n",
       "      <th>0</th>\n",
       "      <td>1</td>\n",
       "      <td>1</td>\n",
       "      <td>-0.028087</td>\n",
       "      <td>1</td>\n",
       "      <td>2.268812</td>\n",
       "      <td>1</td>\n",
       "      <td>1</td>\n",
       "      <td>-1.140102</td>\n",
       "      <td>2</td>\n",
       "      <td>0</td>\n",
       "      <td>-1.291091</td>\n",
       "      <td>1</td>\n",
       "      <td>-0.597647</td>\n",
       "      <td>1</td>\n",
       "      <td>0.461711</td>\n",
       "      <td>60% - 85%</td>\n",
       "      <td>85% +</td>\n",
       "      <td>&lt; 60%</td>\n",
       "      <td>&lt; 60%</td>\n",
       "      <td>&lt; 60%</td>\n",
       "    </tr>\n",
       "    <tr>\n",
       "      <th>1</th>\n",
       "      <td>2</td>\n",
       "      <td>1</td>\n",
       "      <td>1.113369</td>\n",
       "      <td>0</td>\n",
       "      <td>1.103448</td>\n",
       "      <td>1</td>\n",
       "      <td>2</td>\n",
       "      <td>1.513267</td>\n",
       "      <td>2</td>\n",
       "      <td>1</td>\n",
       "      <td>1.087157</td>\n",
       "      <td>0</td>\n",
       "      <td>0.687620</td>\n",
       "      <td>1</td>\n",
       "      <td>0.008404</td>\n",
       "      <td>60% - 85%</td>\n",
       "      <td>60% - 85%</td>\n",
       "      <td>60% - 85%</td>\n",
       "      <td>60% - 85%</td>\n",
       "      <td>85% +</td>\n",
       "    </tr>\n",
       "    <tr>\n",
       "      <th>2</th>\n",
       "      <td>3</td>\n",
       "      <td>1</td>\n",
       "      <td>-0.213238</td>\n",
       "      <td>0</td>\n",
       "      <td>0.153313</td>\n",
       "      <td>0</td>\n",
       "      <td>0</td>\n",
       "      <td>-0.322843</td>\n",
       "      <td>0</td>\n",
       "      <td>0</td>\n",
       "      <td>0.218908</td>\n",
       "      <td>0</td>\n",
       "      <td>-0.769474</td>\n",
       "      <td>1</td>\n",
       "      <td>0.332195</td>\n",
       "      <td>60% - 85%</td>\n",
       "      <td>60% - 85%</td>\n",
       "      <td>&lt; 60%</td>\n",
       "      <td>60% - 85%</td>\n",
       "      <td>60% - 85%</td>\n",
       "    </tr>\n",
       "    <tr>\n",
       "      <th>3</th>\n",
       "      <td>4</td>\n",
       "      <td>1</td>\n",
       "      <td>-1.046417</td>\n",
       "      <td>0</td>\n",
       "      <td>-1.318339</td>\n",
       "      <td>0</td>\n",
       "      <td>2</td>\n",
       "      <td>-1.957362</td>\n",
       "      <td>2</td>\n",
       "      <td>0</td>\n",
       "      <td>-0.460592</td>\n",
       "      <td>1</td>\n",
       "      <td>-0.489396</td>\n",
       "      <td>0</td>\n",
       "      <td>-1.286761</td>\n",
       "      <td>&lt; 60%</td>\n",
       "      <td>&lt; 60%</td>\n",
       "      <td>&lt; 60%</td>\n",
       "      <td>&lt; 60%</td>\n",
       "      <td>60% - 85%</td>\n",
       "    </tr>\n",
       "    <tr>\n",
       "      <th>4</th>\n",
       "      <td>5</td>\n",
       "      <td>1</td>\n",
       "      <td>1.712332</td>\n",
       "      <td>0</td>\n",
       "      <td>0.668391</td>\n",
       "      <td>0</td>\n",
       "      <td>1</td>\n",
       "      <td>0.943909</td>\n",
       "      <td>0</td>\n",
       "      <td>0</td>\n",
       "      <td>1.864806</td>\n",
       "      <td>0</td>\n",
       "      <td>-1.164676</td>\n",
       "      <td>1</td>\n",
       "      <td>1.465463</td>\n",
       "      <td>85% +</td>\n",
       "      <td>60% - 85%</td>\n",
       "      <td>&lt; 60%</td>\n",
       "      <td>60% - 85%</td>\n",
       "      <td>85% +</td>\n",
       "    </tr>\n",
       "    <tr>\n",
       "      <th>5</th>\n",
       "      <td>6</td>\n",
       "      <td>1</td>\n",
       "      <td>-1.138993</td>\n",
       "      <td>1</td>\n",
       "      <td>-1.520691</td>\n",
       "      <td>1</td>\n",
       "      <td>2</td>\n",
       "      <td>0.119839</td>\n",
       "      <td>2</td>\n",
       "      <td>1</td>\n",
       "      <td>-1.291091</td>\n",
       "      <td>0</td>\n",
       "      <td>-1.838239</td>\n",
       "      <td>0</td>\n",
       "      <td>-1.286761</td>\n",
       "      <td>&lt; 60%</td>\n",
       "      <td>&lt; 60%</td>\n",
       "      <td>&lt; 60%</td>\n",
       "      <td>60% - 85%</td>\n",
       "      <td>&lt; 60%</td>\n",
       "    </tr>\n",
       "    <tr>\n",
       "      <th>6</th>\n",
       "      <td>7</td>\n",
       "      <td>0</td>\n",
       "      <td>-1.972172</td>\n",
       "      <td>1</td>\n",
       "      <td>-1.575878</td>\n",
       "      <td>1</td>\n",
       "      <td>1</td>\n",
       "      <td>1.720306</td>\n",
       "      <td>0</td>\n",
       "      <td>0</td>\n",
       "      <td>0.164548</td>\n",
       "      <td>0</td>\n",
       "      <td>-1.544414</td>\n",
       "      <td>0</td>\n",
       "      <td>-1.286761</td>\n",
       "      <td>&lt; 60%</td>\n",
       "      <td>&lt; 60%</td>\n",
       "      <td>&lt; 60%</td>\n",
       "      <td>60% - 85%</td>\n",
       "      <td>60% - 85%</td>\n",
       "    </tr>\n",
       "    <tr>\n",
       "      <th>7</th>\n",
       "      <td>8</td>\n",
       "      <td>1</td>\n",
       "      <td>1.360545</td>\n",
       "      <td>0</td>\n",
       "      <td>-0.214600</td>\n",
       "      <td>0</td>\n",
       "      <td>2</td>\n",
       "      <td>-0.050423</td>\n",
       "      <td>2</td>\n",
       "      <td>1</td>\n",
       "      <td>-0.385092</td>\n",
       "      <td>0</td>\n",
       "      <td>-0.023744</td>\n",
       "      <td>1</td>\n",
       "      <td>0.345146</td>\n",
       "      <td>60% - 85%</td>\n",
       "      <td>60% - 85%</td>\n",
       "      <td>60% - 85%</td>\n",
       "      <td>60% - 85%</td>\n",
       "      <td>60% - 85%</td>\n",
       "    </tr>\n",
       "    <tr>\n",
       "      <th>8</th>\n",
       "      <td>9</td>\n",
       "      <td>1</td>\n",
       "      <td>0.527366</td>\n",
       "      <td>0</td>\n",
       "      <td>1.165073</td>\n",
       "      <td>0</td>\n",
       "      <td>1</td>\n",
       "      <td>0.766836</td>\n",
       "      <td>0</td>\n",
       "      <td>0</td>\n",
       "      <td>1.452576</td>\n",
       "      <td>0</td>\n",
       "      <td>-0.169797</td>\n",
       "      <td>1</td>\n",
       "      <td>0.209154</td>\n",
       "      <td>60% - 85%</td>\n",
       "      <td>60% - 85%</td>\n",
       "      <td>60% - 85%</td>\n",
       "      <td>60% - 85%</td>\n",
       "      <td>85% +</td>\n",
       "    </tr>\n",
       "    <tr>\n",
       "      <th>9</th>\n",
       "      <td>10</td>\n",
       "      <td>1</td>\n",
       "      <td>-0.861266</td>\n",
       "      <td>0</td>\n",
       "      <td>0.337269</td>\n",
       "      <td>0</td>\n",
       "      <td>1</td>\n",
       "      <td>-0.731473</td>\n",
       "      <td>0</td>\n",
       "      <td>0</td>\n",
       "      <td>-1.366591</td>\n",
       "      <td>0</td>\n",
       "      <td>-1.729988</td>\n",
       "      <td>0</td>\n",
       "      <td>-1.286761</td>\n",
       "      <td>&lt; 60%</td>\n",
       "      <td>60% - 85%</td>\n",
       "      <td>&lt; 60%</td>\n",
       "      <td>60% - 85%</td>\n",
       "      <td>&lt; 60%</td>\n",
       "    </tr>\n",
       "  </tbody>\n",
       "</table>\n",
       "</div>"
      ],
      "text/plain": [
       "   sl_no  gender     ssc_p  ssc_b     hsc_p  hsc_b  hsc_s  degree_p  degree_t  \\\n",
       "0      1       1 -0.028087      1  2.268812      1      1 -1.140102         2   \n",
       "1      2       1  1.113369      0  1.103448      1      2  1.513267         2   \n",
       "2      3       1 -0.213238      0  0.153313      0      0 -0.322843         0   \n",
       "3      4       1 -1.046417      0 -1.318339      0      2 -1.957362         2   \n",
       "4      5       1  1.712332      0  0.668391      0      1  0.943909         0   \n",
       "5      6       1 -1.138993      1 -1.520691      1      2  0.119839         2   \n",
       "6      7       0 -1.972172      1 -1.575878      1      1  1.720306         0   \n",
       "7      8       1  1.360545      0 -0.214600      0      2 -0.050423         2   \n",
       "8      9       1  0.527366      0  1.165073      0      1  0.766836         0   \n",
       "9     10       1 -0.861266      0  0.337269      0      1 -0.731473         0   \n",
       "\n",
       "   workex   etest_p  specialisation     mba_p  status    salary ssc_p_catg  \\\n",
       "0       0 -1.291091               1 -0.597647       1  0.461711  60% - 85%   \n",
       "1       1  1.087157               0  0.687620       1  0.008404  60% - 85%   \n",
       "2       0  0.218908               0 -0.769474       1  0.332195  60% - 85%   \n",
       "3       0 -0.460592               1 -0.489396       0 -1.286761      < 60%   \n",
       "4       0  1.864806               0 -1.164676       1  1.465463      85% +   \n",
       "5       1 -1.291091               0 -1.838239       0 -1.286761      < 60%   \n",
       "6       0  0.164548               0 -1.544414       0 -1.286761      < 60%   \n",
       "7       1 -0.385092               0 -0.023744       1  0.345146  60% - 85%   \n",
       "8       0  1.452576               0 -0.169797       1  0.209154  60% - 85%   \n",
       "9       0 -1.366591               0 -1.729988       0 -1.286761      < 60%   \n",
       "\n",
       "  hsc_p_catg mba_p_catg degree_p_catg etest_p_catg  \n",
       "0      85% +      < 60%         < 60%        < 60%  \n",
       "1  60% - 85%  60% - 85%     60% - 85%        85% +  \n",
       "2  60% - 85%      < 60%     60% - 85%    60% - 85%  \n",
       "3      < 60%      < 60%         < 60%    60% - 85%  \n",
       "4  60% - 85%      < 60%     60% - 85%        85% +  \n",
       "5      < 60%      < 60%     60% - 85%        < 60%  \n",
       "6      < 60%      < 60%     60% - 85%    60% - 85%  \n",
       "7  60% - 85%  60% - 85%     60% - 85%    60% - 85%  \n",
       "8  60% - 85%  60% - 85%     60% - 85%        85% +  \n",
       "9  60% - 85%      < 60%     60% - 85%        < 60%  "
      ]
     },
     "execution_count": 37,
     "metadata": {},
     "output_type": "execute_result"
    }
   ],
   "source": [
    "# Checking Scaled features\n",
    "df.head(10)"
   ]
  },
  {
   "cell_type": "code",
   "execution_count": 38,
   "metadata": {
    "execution": {
     "iopub.execute_input": "2021-05-18T19:26:40.286859Z",
     "iopub.status.busy": "2021-05-18T19:26:40.286310Z",
     "iopub.status.idle": "2021-05-18T19:26:40.287882Z",
     "shell.execute_reply": "2021-05-18T19:26:40.288244Z"
    },
    "papermill": {
     "duration": 0.083629,
     "end_time": "2021-05-18T19:26:40.288411",
     "exception": false,
     "start_time": "2021-05-18T19:26:40.204782",
     "status": "completed"
    },
    "tags": []
   },
   "outputs": [],
   "source": [
    "# Separating Features for classification\n",
    "X = df.iloc[:,1:13]\n",
    "y = df.iloc[:, 13]"
   ]
  },
  {
   "cell_type": "code",
   "execution_count": 39,
   "metadata": {
    "execution": {
     "iopub.execute_input": "2021-05-18T19:26:40.414905Z",
     "iopub.status.busy": "2021-05-18T19:26:40.414397Z",
     "iopub.status.idle": "2021-05-18T19:26:40.477173Z",
     "shell.execute_reply": "2021-05-18T19:26:40.476701Z"
    },
    "papermill": {
     "duration": 0.127019,
     "end_time": "2021-05-18T19:26:40.477343",
     "exception": false,
     "start_time": "2021-05-18T19:26:40.350324",
     "status": "completed"
    },
    "tags": []
   },
   "outputs": [],
   "source": [
    "# Creating Training and Test data for classification\n",
    "X_train, X_test, y_train, y_test = train_test_split(X, y, test_size = 0.2, shuffle = True)"
   ]
  },
  {
   "cell_type": "code",
   "execution_count": 40,
   "metadata": {
    "execution": {
     "iopub.execute_input": "2021-05-18T19:26:40.951924Z",
     "iopub.status.busy": "2021-05-18T19:26:40.951408Z",
     "iopub.status.idle": "2021-05-18T19:26:40.952999Z",
     "shell.execute_reply": "2021-05-18T19:26:40.953383Z"
    },
    "papermill": {
     "duration": 0.081066,
     "end_time": "2021-05-18T19:26:40.953537",
     "exception": false,
     "start_time": "2021-05-18T19:26:40.872471",
     "status": "completed"
    },
    "tags": []
   },
   "outputs": [],
   "source": [
    "# Recall, Precision, Accuracy List which will be further used in Plotting\n",
    "recall_l, precision_l, accuracy_l = [], [], []"
   ]
  },
  {
   "cell_type": "code",
   "execution_count": 41,
   "metadata": {
    "execution": {
     "iopub.execute_input": "2021-05-18T19:26:41.081245Z",
     "iopub.status.busy": "2021-05-18T19:26:41.080695Z",
     "iopub.status.idle": "2021-05-18T19:26:41.086601Z",
     "shell.execute_reply": "2021-05-18T19:26:41.086078Z"
    },
    "papermill": {
     "duration": 0.07058,
     "end_time": "2021-05-18T19:26:41.086730",
     "exception": false,
     "start_time": "2021-05-18T19:26:41.016150",
     "status": "completed"
    },
    "tags": []
   },
   "outputs": [],
   "source": [
    "# Defining a Function to get the accuracy of different classifiers\n",
    "def get_accuracy(y_test, y_pred):\n",
    "    matrix = confusion_matrix(y_test,y_pred)\n",
    "    TP = matrix[1][1]\n",
    "    TN = matrix[0][0]\n",
    "    FP = matrix[0][1]\n",
    "    FN = matrix[1][0]\n",
    "    # calculate the Recall\n",
    "    recall = TP / (TP + FN)    \n",
    "    # calculate the Precision\n",
    "    precision = TP / (TP + FP)\n",
    "    recall_l.append(recall)\n",
    "    precision_l.append(precision)\n",
    "    accuracy_l.append(accuracy_score(y_test, y_pred))\n",
    "    return recall, precision, accuracy_score(y_test, y_pred)"
   ]
  },
  {
   "cell_type": "code",
   "execution_count": 42,
   "metadata": {
    "execution": {
     "iopub.execute_input": "2021-05-18T19:26:41.219562Z",
     "iopub.status.busy": "2021-05-18T19:26:41.219003Z",
     "iopub.status.idle": "2021-05-18T19:26:41.229611Z",
     "shell.execute_reply": "2021-05-18T19:26:41.230030Z"
    },
    "papermill": {
     "duration": 0.080723,
     "end_time": "2021-05-18T19:26:41.230182",
     "exception": false,
     "start_time": "2021-05-18T19:26:41.149459",
     "status": "completed"
    },
    "tags": []
   },
   "outputs": [
    {
     "name": "stdout",
     "output_type": "stream",
     "text": [
      "================================\n",
      "Classifier: Decision Tree\n",
      "Recall    :  0.9333333333333333\n",
      "Precision :  0.8484848484848485\n",
      "Accuracy  :  0.8372093023255814\n"
     ]
    }
   ],
   "source": [
    "# Decision Tree Classifier\n",
    "df_clf = DecisionTreeClassifier(random_state = 0)\n",
    "df_clf.fit(X_train, y_train)\n",
    "y_pred = df_clf.predict(X_test)\n",
    "recall, precision, accuracy = get_accuracy(y_test, y_pred)\n",
    "print('================================')\n",
    "print('Classifier: Decision Tree')\n",
    "print('Recall    : ', recall)\n",
    "print('Precision : ', precision)\n",
    "print('Accuracy  : ', accuracy)"
   ]
  },
  {
   "cell_type": "code",
   "execution_count": 43,
   "metadata": {
    "execution": {
     "iopub.execute_input": "2021-05-18T19:26:41.363643Z",
     "iopub.status.busy": "2021-05-18T19:26:41.362758Z",
     "iopub.status.idle": "2021-05-18T19:26:41.442887Z",
     "shell.execute_reply": "2021-05-18T19:26:41.442406Z"
    },
    "papermill": {
     "duration": 0.150158,
     "end_time": "2021-05-18T19:26:41.443018",
     "exception": false,
     "start_time": "2021-05-18T19:26:41.292860",
     "status": "completed"
    },
    "tags": []
   },
   "outputs": [
    {
     "name": "stdout",
     "output_type": "stream",
     "text": [
      "================================\n",
      "Classifier: Random Forest\n",
      "Recall    :  0.9\n",
      "Precision :  0.8181818181818182\n",
      "Accuracy  :  0.7906976744186046\n"
     ]
    }
   ],
   "source": [
    "# Random Forest Classifier\n",
    "rf_clf = RandomForestClassifier(n_estimators = 50, random_state = 0, criterion = 'entropy')\n",
    "rf_clf.fit(X_train, y_train)\n",
    "y_pred = rf_clf.predict(X_test)\n",
    "recall, precision, accuracy = get_accuracy(y_test, y_pred)\n",
    "print('================================')\n",
    "print('Classifier: Random Forest')\n",
    "print('Recall    : ', recall)\n",
    "print('Precision : ', precision)\n",
    "print('Accuracy  : ', accuracy) "
   ]
  },
  {
   "cell_type": "code",
   "execution_count": 44,
   "metadata": {
    "execution": {
     "iopub.execute_input": "2021-05-18T19:26:41.576349Z",
     "iopub.status.busy": "2021-05-18T19:26:41.575782Z",
     "iopub.status.idle": "2021-05-18T19:26:41.590150Z",
     "shell.execute_reply": "2021-05-18T19:26:41.590613Z"
    },
    "papermill": {
     "duration": 0.084718,
     "end_time": "2021-05-18T19:26:41.590776",
     "exception": false,
     "start_time": "2021-05-18T19:26:41.506058",
     "status": "completed"
    },
    "tags": []
   },
   "outputs": [
    {
     "name": "stdout",
     "output_type": "stream",
     "text": [
      "================================\n",
      "Classifier: Logistic Regression\n",
      "Recall    :  0.9\n",
      "Precision :  0.9\n",
      "Accuracy  :  0.8604651162790697\n"
     ]
    }
   ],
   "source": [
    "# Logistic Regression\n",
    "lr = LogisticRegression(solver = 'lbfgs')\n",
    "lr.fit(X_train, y_train)\n",
    "y_pred = lr.predict(X_test)\n",
    "recall, precision, accuracy = get_accuracy(y_test, y_pred)\n",
    "print('================================')\n",
    "print('Classifier: Logistic Regression')\n",
    "print('Recall    : ', recall)\n",
    "print('Precision : ', precision)\n",
    "print('Accuracy  : ', accuracy) "
   ]
  },
  {
   "cell_type": "code",
   "execution_count": 45,
   "metadata": {
    "execution": {
     "iopub.execute_input": "2021-05-18T19:26:41.735952Z",
     "iopub.status.busy": "2021-05-18T19:26:41.735375Z",
     "iopub.status.idle": "2021-05-18T19:26:41.871141Z",
     "shell.execute_reply": "2021-05-18T19:26:41.870532Z"
    },
    "papermill": {
     "duration": 0.217561,
     "end_time": "2021-05-18T19:26:41.871317",
     "exception": false,
     "start_time": "2021-05-18T19:26:41.653756",
     "status": "completed"
    },
    "tags": []
   },
   "outputs": [
    {
     "data": {
      "image/png": "[encoded data removed]",
      "text/plain": [
       "<Figure size 1058.4x595.44 with 1 Axes>"
      ]
     },
     "metadata": {
      "needs_background": "light"
     },
     "output_type": "display_data"
    }
   ],
   "source": [
    "# Plotting Recall, Precision, Accuracy of classifier\n",
    "x = ['DecisionTree', 'RandomForest', 'LogisticRegression']\n",
    "x_axis = np.arange(len(x))\n",
    "plt.figure(figsize = [14.70, 8.27])\n",
    "plt.bar(x_axis - 0.2, recall_l, 0.15, label = 'Recall')\n",
    "plt.bar(x_axis, precision_l, 0.15, label = 'Precision')\n",
    "plt.bar(x_axis + 0.2, accuracy_l, 0.15, label = 'Accuracy')\n",
    "plt.xticks(x_axis, x)\n",
    "plt.legend()\n",
    "plt.title('Recall, Precision, Accuracy of Classifiers');"
   ]
  },
  {
   "cell_type": "code",
   "execution_count": 46,
   "metadata": {
    "execution": {
     "iopub.execute_input": "2021-05-18T19:26:42.006213Z",
     "iopub.status.busy": "2021-05-18T19:26:42.005353Z",
     "iopub.status.idle": "2021-05-18T19:26:42.007999Z",
     "shell.execute_reply": "2021-05-18T19:26:42.007566Z"
    },
    "papermill": {
     "duration": 0.072506,
     "end_time": "2021-05-18T19:26:42.008132",
     "exception": false,
     "start_time": "2021-05-18T19:26:41.935626",
     "status": "completed"
    },
    "tags": []
   },
   "outputs": [],
   "source": [
    "# Preparing the data for our Regression model\n",
    "X = df.iloc[:,1:14]\n",
    "y = df.iloc[:, 14]"
   ]
  },
  {
   "cell_type": "code",
   "execution_count": 47,
   "metadata": {
    "execution": {
     "iopub.execute_input": "2021-05-18T19:26:42.141619Z",
     "iopub.status.busy": "2021-05-18T19:26:42.140978Z",
     "iopub.status.idle": "2021-05-18T19:26:42.143608Z",
     "shell.execute_reply": "2021-05-18T19:26:42.143157Z"
    },
    "papermill": {
     "duration": 0.071705,
     "end_time": "2021-05-18T19:26:42.143745",
     "exception": false,
     "start_time": "2021-05-18T19:26:42.072040",
     "status": "completed"
    },
    "tags": []
   },
   "outputs": [],
   "source": [
    "# Creating Training and Test data\n",
    "from sklearn.model_selection import train_test_split\n",
    "X_train, X_test, y_train, y_test = train_test_split(X, y, test_size = 0.2, shuffle = False)"
   ]
  },
  {
   "cell_type": "code",
   "execution_count": 48,
   "metadata": {
    "execution": {
     "iopub.execute_input": "2021-05-18T19:26:42.413312Z",
     "iopub.status.busy": "2021-05-18T19:26:42.412469Z",
     "iopub.status.idle": "2021-05-18T19:26:42.416529Z",
     "shell.execute_reply": "2021-05-18T19:26:42.416895Z"
    },
    "papermill": {
     "duration": 0.071274,
     "end_time": "2021-05-18T19:26:42.417048",
     "exception": false,
     "start_time": "2021-05-18T19:26:42.345774",
     "status": "completed"
    },
    "tags": []
   },
   "outputs": [],
   "source": [
    "# Root Mean Squared Error List for Regressor\n",
    "rmse = []"
   ]
  },
  {
   "cell_type": "code",
   "execution_count": 49,
   "metadata": {
    "execution": {
     "iopub.execute_input": "2021-05-18T19:26:42.548601Z",
     "iopub.status.busy": "2021-05-18T19:26:42.547743Z",
     "iopub.status.idle": "2021-05-18T19:26:42.591193Z",
     "shell.execute_reply": "2021-05-18T19:26:42.591687Z"
    },
    "papermill": {
     "duration": 0.1108,
     "end_time": "2021-05-18T19:26:42.591850",
     "exception": false,
     "start_time": "2021-05-18T19:26:42.481050",
     "status": "completed"
    },
    "tags": []
   },
   "outputs": [
    {
     "name": "stdout",
     "output_type": "stream",
     "text": [
      "==============================\n",
      "Regression Model      : RandomForest\n",
      "RMSE                  :  1.2469498958389158\n"
     ]
    }
   ],
   "source": [
    "# Random Forest Regression\n",
    "regressor_rf = RandomForestRegressor(n_estimators = 20, random_state = 0)\n",
    "regressor_rf.fit(X_train, y_train)\n",
    "y_test = regressor_rf.predict(X_test)\n",
    "print('==============================')\n",
    "print('Regression Model      : RandomForest')\n",
    "print('RMSE                  : ', np.sqrt(mean_squared_error(y_test, y_pred)))\n",
    "rmse.append(np.sqrt(mean_squared_error(y_test, y_pred)))"
   ]
  },
  {
   "cell_type": "code",
   "execution_count": 50,
   "metadata": {
    "execution": {
     "iopub.execute_input": "2021-05-18T19:26:42.727904Z",
     "iopub.status.busy": "2021-05-18T19:26:42.727277Z",
     "iopub.status.idle": "2021-05-18T19:26:42.735679Z",
     "shell.execute_reply": "2021-05-18T19:26:42.735190Z"
    },
    "papermill": {
     "duration": 0.079863,
     "end_time": "2021-05-18T19:26:42.735805",
     "exception": false,
     "start_time": "2021-05-18T19:26:42.655942",
     "status": "completed"
    },
    "tags": []
   },
   "outputs": [
    {
     "name": "stdout",
     "output_type": "stream",
     "text": [
      "==============================\n",
      "Regression Model      : DecisionTree\n",
      "RMSE                  :  1.2748427830492495\n"
     ]
    }
   ],
   "source": [
    "# Decision Tree Regressor\n",
    "regressor_dt = DecisionTreeRegressor(random_state = 0)\n",
    "regressor_dt.fit(X_train, y_train)\n",
    "y_test = regressor_dt.predict(X_test)\n",
    "print('==============================')\n",
    "print('Regression Model      : DecisionTree')\n",
    "print('RMSE                  : ', np.sqrt(mean_squared_error(y_test, y_pred)))\n",
    "rmse.append(np.sqrt(mean_squared_error(y_test, y_pred)))"
   ]
  },
  {
   "cell_type": "code",
   "execution_count": 51,
   "metadata": {
    "execution": {
     "iopub.execute_input": "2021-05-18T19:26:42.881567Z",
     "iopub.status.busy": "2021-05-18T19:26:42.880998Z",
     "iopub.status.idle": "2021-05-18T19:26:42.887774Z",
     "shell.execute_reply": "2021-05-18T19:26:42.888403Z"
    },
    "papermill": {
     "duration": 0.087942,
     "end_time": "2021-05-18T19:26:42.888605",
     "exception": false,
     "start_time": "2021-05-18T19:26:42.800663",
     "status": "completed"
    },
    "tags": []
   },
   "outputs": [
    {
     "name": "stdout",
     "output_type": "stream",
     "text": [
      "==============================\n",
      "Regression Model      : Linear\n",
      "RMSE                  :  1.2291021561406164\n"
     ]
    }
   ],
   "source": [
    "# Linear Regression\n",
    "regressor_lr = LinearRegression()\n",
    "regressor_lr.fit(X_train, y_train)\n",
    "y_test = regressor_lr.predict(X_test)\n",
    "print('==============================')\n",
    "print('Regression Model      : Linear')\n",
    "print('RMSE                  : ', np.sqrt(mean_squared_error(y_test, y_pred)))\n",
    "rmse.append(np.sqrt(mean_squared_error(y_test, y_pred)))"
   ]
  },
  {
   "cell_type": "code",
   "execution_count": 52,
   "metadata": {
    "execution": {
     "iopub.execute_input": "2021-05-18T19:26:43.038637Z",
     "iopub.status.busy": "2021-05-18T19:26:43.038029Z",
     "iopub.status.idle": "2021-05-18T19:26:43.143219Z",
     "shell.execute_reply": "2021-05-18T19:26:43.142609Z"
    },
    "papermill": {
     "duration": 0.188929,
     "end_time": "2021-05-18T19:26:43.143379",
     "exception": false,
     "start_time": "2021-05-18T19:26:42.954450",
     "status": "completed"
    },
    "tags": []
   },
   "outputs": [
    {
     "data": {
      "image/png": "[encoded data removed]",
      "text/plain": [
       "<Figure size 1058.4x595.44 with 1 Axes>"
      ]
     },
     "metadata": {
      "needs_background": "light"
     },
     "output_type": "display_data"
    }
   ],
   "source": [
    "# Plotting RMSE\n",
    "x = ['RandomForest', 'DecisionTree', 'LinearRegression']\n",
    "x_axis = np.arange(len(x))\n",
    "plt.figure(figsize = (14.7, 8.27))\n",
    "plt.bar(x_axis, rmse, 0.15, label = 'RMSE')\n",
    "plt.xticks(x_axis, x)\n",
    "plt.title('RMSE for Regressor');"
   ]
  }
 ],
 "metadata": {
  "kernelspec": {
   "display_name": "Python 3",
   "language": "python",
   "name": "python3"
  },
  "language_info": {
   "codemirror_mode": {
    "name": "ipython",
    "version": 3
   },
   "file_extension": ".py",
   "mimetype": "text/x-python",
   "name": "python",
   "nbconvert_exporter": "python",
   "pygments_lexer": "ipython3",
   "version": "3.7.3"
  },
  "papermill": {
   "default_parameters": {},
   "duration": 25.89323,
   "end_time": "2021-05-18T19:26:44.873146",
   "environment_variables": {},
   "exception": null,
   "input_path": "__notebook__.ipynb",
   "output_path": "__notebook__.ipynb",
   "parameters": {},
   "start_time": "2021-05-18T19:26:18.979916",
   "version": "2.3.3"
  }
 },
 "nbformat": 4,
 "nbformat_minor": 5
}
